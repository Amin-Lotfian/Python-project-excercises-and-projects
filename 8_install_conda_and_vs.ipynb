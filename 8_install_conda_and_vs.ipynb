{
  "nbformat": 4,
  "nbformat_minor": 0,
  "metadata": {
    "colab": {
      "provenance": [],
      "authorship_tag": "ABX9TyNCEGoqKyZllD6nm2jRkY38",
      "include_colab_link": true
    },
    "kernelspec": {
      "name": "python3",
      "display_name": "Python 3"
    },
    "language_info": {
      "name": "python"
    }
  },
  "cells": [
    {
      "cell_type": "markdown",
      "metadata": {
        "id": "view-in-github",
        "colab_type": "text"
      },
      "source": [
        "<a href=\"https://colab.research.google.com/github/Amin-Lotfian/Python-project-excercises-and-projects/blob/main/8_install_conda_and_vs.ipynb\" target=\"_parent\"><img src=\"https://colab.research.google.com/assets/colab-badge.svg\" alt=\"Open In Colab\"/></a>"
      ]
    },
    {
      "cell_type": "markdown",
      "source": [
        "# ENVIRONMENTS:"
      ],
      "metadata": {
        "id": "GtHLeuIyqlm7"
      }
    },
    {
      "cell_type": "markdown",
      "source": [
        "anaconda prompt:\n",
        "\n",
        "conda env list\n",
        "\n",
        "anaconda prompt: python --version\n",
        "\n"
      ],
      "metadata": {
        "id": "bUnYUpRQqqHA"
      }
    },
    {
      "cell_type": "markdown",
      "source": [
        "VS code:\n",
        "\n",
        "creating a new folder and new file\n",
        "\n",
        "ctrl + ~ : to run terminal\n",
        "\n",
        "terminal: conda env list\n",
        "\n",
        "\n",
        "\n",
        "\n",
        "\n",
        "* new environment:\n",
        "\n",
        "\n",
        "terminal: conda create -n ert python=3.11.7 pandas\n",
        "\n",
        "terminal: conda activate ert\n",
        "\n",
        "search bar: >developer: reload window\n",
        "\n",
        "change the kernel to the new environment\n",
        "\n",
        "* installed packages\n",
        "\n",
        "conda list\n",
        "\n",
        "* installing new packages\n",
        "\n",
        "conda install datasets matplotlib\n",
        "\n",
        "\n",
        "\n",
        "* deleting:\n",
        "\n",
        "\n",
        "terminal: conda deactivate\n",
        "\n",
        "terminal: conda remove -n ert --all\n",
        "\n"
      ],
      "metadata": {
        "id": "2MOBI4fwrbeR"
      }
    }
  ]
}