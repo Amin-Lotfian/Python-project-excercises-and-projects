{
  "cells": [
    {
      "cell_type": "markdown",
      "metadata": {
        "id": "view-in-github",
        "colab_type": "text"
      },
      "source": [
        "<a href=\"https://colab.research.google.com/github/Amin-Lotfian/Python-project-excercises-and-projects/blob/main/16_Pandas_Exporting_Data.ipynb\" target=\"_parent\"><img src=\"https://colab.research.google.com/assets/colab-badge.svg\" alt=\"Open In Colab\"/></a>"
      ]
    },
    {
      "cell_type": "code",
      "execution_count": null,
      "metadata": {
        "id": "S0c_m40vytNP"
      },
      "outputs": [],
      "source": [
        "df.to_csv('quarter_1.csv', index=False)"
      ]
    },
    {
      "cell_type": "code",
      "source": [
        "pd.read_csv('quarter_1.csv', index_col=0)"
      ],
      "metadata": {
        "id": "iwpnVeKp7Dsl"
      },
      "execution_count": null,
      "outputs": []
    },
    {
      "cell_type": "code",
      "execution_count": null,
      "metadata": {
        "id": "bjuXtVhdytNQ"
      },
      "outputs": [],
      "source": [
        "!pip install openpyxl\n",
        "df.to_excel('quarter_1.xlsx', index=False)"
      ]
    },
    {
      "cell_type": "code",
      "execution_count": null,
      "metadata": {
        "id": "Sc7P73x2ytNR"
      },
      "outputs": [],
      "source": [
        "# this requires a connection to a SQL database, we'll use sqlalchemy for this\n",
        "# !conda install -c anaconda sqlalchemy -y\n",
        "from sqlalchemy import create_engine\n",
        "engine = create_engine('sqlite:///jobs.db')\n",
        "df.to_sql('job_table', con=engine, if_exists='append', index=False)"
      ]
    },
    {
      "cell_type": "code",
      "execution_count": null,
      "metadata": {
        "id": "NOiSA543ytNR"
      },
      "outputs": [],
      "source": [
        "df.to_parquet('jobs_data.parquet')"
      ]
    },
    {
      "cell_type": "code",
      "execution_count": null,
      "metadata": {
        "id": "ZtD-N7E_ytNR"
      },
      "outputs": [],
      "source": [
        "df.to_pickle('job_data.pkl')"
      ]
    }
  ],
  "metadata": {
    "colab": {
      "provenance": [],
      "include_colab_link": true
    },
    "kernelspec": {
      "display_name": "Python 3",
      "name": "python3"
    },
    "language_info": {
      "codemirror_mode": {
        "name": "ipython",
        "version": 3
      },
      "file_extension": ".py",
      "mimetype": "text/x-python",
      "name": "python",
      "nbconvert_exporter": "python",
      "pygments_lexer": "ipython3",
      "version": "3.11.9"
    }
  },
  "nbformat": 4,
  "nbformat_minor": 0
}