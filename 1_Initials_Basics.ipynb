{
  "cells": [
    {
      "cell_type": "markdown",
      "metadata": {
        "id": "view-in-github",
        "colab_type": "text"
      },
      "source": [
        "<a href=\"https://colab.research.google.com/github/Amin-Lotfian/Python-project-excercises-and-projects/blob/main/1_Initials_Basics.ipynb\" target=\"_parent\"><img src=\"https://colab.research.google.com/assets/colab-badge.svg\" alt=\"Open In Colab\"/></a>"
      ]
    },
    {
      "cell_type": "code",
      "source": [
        "object\n",
        "\n",
        "\n",
        "\n",
        "variable\n",
        "function\n",
        "\n",
        "\n",
        "class\n",
        "method= functions in classes\n",
        "attribute = variables in classes\n",
        "instance = it is a variable that a class is assigned to it"
      ],
      "metadata": {
        "id": "Iq-vRxn-VAYP"
      },
      "execution_count": null,
      "outputs": []
    },
    {
      "cell_type": "code",
      "source": [
        "print(2+2)\n",
        "3*3"
      ],
      "metadata": {
        "colab": {
          "base_uri": "https://localhost:8080/"
        },
        "id": "vOlqgtXZIW2M",
        "outputId": "8e7cabe7-1e00-4476-e557-8aae72cab9b9"
      },
      "execution_count": null,
      "outputs": [
        {
          "output_type": "stream",
          "name": "stdout",
          "text": [
            "4\n"
          ]
        },
        {
          "output_type": "execute_result",
          "data": {
            "text/plain": [
              "9"
            ]
          },
          "metadata": {},
          "execution_count": 1
        }
      ]
    },
    {
      "cell_type": "code",
      "source": [
        "!ls"
      ],
      "metadata": {
        "colab": {
          "base_uri": "https://localhost:8080/"
        },
        "id": "OpSpvpDQSvf4",
        "outputId": "5286e329-0e99-4c1a-9557-a1316c0bf297"
      },
      "execution_count": null,
      "outputs": [
        {
          "output_type": "stream",
          "name": "stdout",
          "text": [
            "sample_data\n"
          ]
        }
      ]
    },
    {
      "cell_type": "code",
      "source": [
        "!ls"
      ],
      "metadata": {
        "colab": {
          "base_uri": "https://localhost:8080/"
        },
        "id": "mPgC_jA0_656",
        "outputId": "2e8424a9-d9ed-4c67-91c3-29673768d7a3"
      },
      "execution_count": null,
      "outputs": [
        {
          "output_type": "stream",
          "name": "stdout",
          "text": [
            "sample_data\n"
          ]
        }
      ]
    },
    {
      "cell_type": "code",
      "source": [
        "%timeit [i**2 for i in range(1000)]"
      ],
      "metadata": {
        "colab": {
          "base_uri": "https://localhost:8080/"
        },
        "id": "9DQYVaCeSxTE",
        "outputId": "a7b7ebca-8948-4769-ab55-35d320169373"
      },
      "execution_count": null,
      "outputs": [
        {
          "output_type": "stream",
          "name": "stdout",
          "text": [
            "542 µs ± 147 µs per loop (mean ± std. dev. of 7 runs, 1000 loops each)\n"
          ]
        }
      ]
    },
    {
      "cell_type": "code",
      "source": [
        "%%timeit\n",
        "L=[]\n",
        "for n in range(1000):\n",
        "    L.append(n**2)"
      ],
      "metadata": {
        "colab": {
          "base_uri": "https://localhost:8080/"
        },
        "id": "6akBgiGWTZgb",
        "outputId": "e6c95d07-87ff-4303-f6aa-326f352e0554"
      },
      "execution_count": null,
      "outputs": [
        {
          "output_type": "stream",
          "name": "stdout",
          "text": [
            "490 µs ± 130 µs per loop (mean ± std. dev. of 7 runs, 1000 loops each)\n"
          ]
        }
      ]
    },
    {
      "cell_type": "code",
      "source": [
        "company_name = \"jkjk\""
      ],
      "metadata": {
        "id": "qJAnqdaDVX4f"
      },
      "execution_count": null,
      "outputs": []
    },
    {
      "cell_type": "code",
      "source": [
        "company_name"
      ],
      "metadata": {
        "colab": {
          "base_uri": "https://localhost:8080/",
          "height": 35
        },
        "id": "kGNgkAyYY4Fv",
        "outputId": "5421b061-fa1c-4a46-8383-7df59e4f1273"
      },
      "execution_count": null,
      "outputs": [
        {
          "output_type": "execute_result",
          "data": {
            "text/plain": [
              "'jkjk'"
            ],
            "application/vnd.google.colaboratory.intrinsic+json": {
              "type": "string"
            }
          },
          "metadata": {},
          "execution_count": 6
        }
      ]
    },
    {
      "cell_type": "code",
      "source": [
        "company2_name = 'jkjk'"
      ],
      "metadata": {
        "id": "LB2Td-1dZXcw"
      },
      "execution_count": null,
      "outputs": []
    },
    {
      "cell_type": "code",
      "source": [
        "company2_name"
      ],
      "metadata": {
        "colab": {
          "base_uri": "https://localhost:8080/",
          "height": 35
        },
        "id": "zSOv23K5Zdho",
        "outputId": "19e7065e-3552-4c07-bb9e-c76f914630bf"
      },
      "execution_count": null,
      "outputs": [
        {
          "output_type": "execute_result",
          "data": {
            "text/plain": [
              "'jkjk'"
            ],
            "application/vnd.google.colaboratory.intrinsic+json": {
              "type": "string"
            }
          },
          "metadata": {},
          "execution_count": 8
        }
      ]
    },
    {
      "cell_type": "code",
      "source": [
        "type(company2_name)"
      ],
      "metadata": {
        "colab": {
          "base_uri": "https://localhost:8080/"
        },
        "id": "u4mysSWfgyUr",
        "outputId": "d7e08a66-4f37-4854-9cd4-2cbde6597655"
      },
      "execution_count": null,
      "outputs": [
        {
          "output_type": "execute_result",
          "data": {
            "text/plain": [
              "str"
            ]
          },
          "metadata": {},
          "execution_count": 9
        }
      ]
    },
    {
      "cell_type": "code",
      "source": [
        "help(str.capitalize)"
      ],
      "metadata": {
        "colab": {
          "base_uri": "https://localhost:8080/"
        },
        "id": "YjomEAoBgyNk",
        "outputId": "46f125ad-5346-4473-f8aa-840e646e3edb"
      },
      "execution_count": null,
      "outputs": [
        {
          "output_type": "stream",
          "name": "stdout",
          "text": [
            "Help on method_descriptor:\n",
            "\n",
            "capitalize(self, /)\n",
            "    Return a capitalized version of the string.\n",
            "    \n",
            "    More specifically, make the first character have upper case and the rest lower\n",
            "    case.\n",
            "\n"
          ]
        }
      ]
    },
    {
      "cell_type": "code",
      "source": [
        "job_title1= \"data analyst\"\n",
        "job_title2= \"data analyst\""
      ],
      "metadata": {
        "id": "xyEKsQ5Pir_1"
      },
      "execution_count": null,
      "outputs": []
    },
    {
      "cell_type": "code",
      "source": [
        "id(job_title1) , id(job_title2)"
      ],
      "metadata": {
        "colab": {
          "base_uri": "https://localhost:8080/"
        },
        "id": "QF1nElIFiysv",
        "outputId": "44d7ca6c-acac-486a-9e0e-cadd5cbecdf3"
      },
      "execution_count": null,
      "outputs": [
        {
          "output_type": "execute_result",
          "data": {
            "text/plain": [
              "(133825276414576, 133825276412272)"
            ]
          },
          "metadata": {},
          "execution_count": 12
        }
      ]
    },
    {
      "cell_type": "code",
      "source": [
        "job_title3 = job_title1"
      ],
      "metadata": {
        "id": "ALRLV64Si1NI"
      },
      "execution_count": null,
      "outputs": []
    },
    {
      "cell_type": "markdown",
      "source": [
        "# returns same id:"
      ],
      "metadata": {
        "id": "YhbIfKNwWk1G"
      }
    },
    {
      "cell_type": "code",
      "source": [
        "id(job_title1) , id(job_title3)"
      ],
      "metadata": {
        "colab": {
          "base_uri": "https://localhost:8080/"
        },
        "id": "Lae23YWajH6C",
        "outputId": "72395f0c-80a3-458c-90d3-b8a7eceec0df"
      },
      "execution_count": null,
      "outputs": [
        {
          "output_type": "execute_result",
          "data": {
            "text/plain": [
              "(133825276414576, 133825276414576)"
            ]
          },
          "metadata": {},
          "execution_count": 14
        }
      ]
    },
    {
      "cell_type": "code",
      "source": [
        "my_print_func= print\n"
      ],
      "metadata": {
        "id": "5A231A2PkoQI"
      },
      "execution_count": null,
      "outputs": []
    },
    {
      "cell_type": "code",
      "source": [
        "my_print_func(\"dddd\")"
      ],
      "metadata": {
        "colab": {
          "base_uri": "https://localhost:8080/"
        },
        "id": "mDrPhrAEl3Zl",
        "outputId": "69e9cfec-71f6-4f2f-be9b-3d5f5f22d970"
      },
      "execution_count": null,
      "outputs": [
        {
          "output_type": "stream",
          "name": "stdout",
          "text": [
            "dddd\n"
          ]
        }
      ]
    },
    {
      "cell_type": "code",
      "source": [
        "def greet():\n",
        "  return \"hello brother\""
      ],
      "metadata": {
        "id": "cSkIkqeYmBro"
      },
      "execution_count": null,
      "outputs": []
    },
    {
      "cell_type": "code",
      "source": [
        "greet()"
      ],
      "metadata": {
        "colab": {
          "base_uri": "https://localhost:8080/",
          "height": 35
        },
        "id": "Fg2ipB4znLvH",
        "outputId": "2a2b8585-695f-436f-9f17-f80af125bb3b"
      },
      "execution_count": null,
      "outputs": [
        {
          "output_type": "execute_result",
          "data": {
            "text/plain": [
              "'hello brother'"
            ],
            "application/vnd.google.colaboratory.intrinsic+json": {
              "type": "string"
            }
          },
          "metadata": {},
          "execution_count": 18
        }
      ]
    },
    {
      "cell_type": "code",
      "execution_count": null,
      "metadata": {
        "id": "66b6ee25"
      },
      "outputs": [],
      "source": [
        "def display_info(title, location, salary):\n",
        "    return print(f\"JOB:       {title}\\nLOCATION:  {location}\\nSALARY:    ${salary:,.0f}\")"
      ]
    },
    {
      "cell_type": "code",
      "execution_count": null,
      "metadata": {
        "id": "a453263c",
        "outputId": "f3643e69-de02-4005-9075-e1641295ee39",
        "colab": {
          "base_uri": "https://localhost:8080/"
        }
      },
      "outputs": [
        {
          "output_type": "stream",
          "name": "stdout",
          "text": [
            "JOB:       Data Analyst\n",
            "LOCATION:  United States\n",
            "SALARY:    $90,000\n"
          ]
        }
      ],
      "source": [
        "job_title = \"Data Analyst\"\n",
        "job_location = \"United States\"\n",
        "job_salary = 90000\n",
        "\n",
        "display_info(job_title, job_location, job_salary)"
      ]
    },
    {
      "cell_type": "code",
      "source": [
        "job_title = 'Data Analyst'\n",
        "remove_word = 'Data'\n",
        "final_title = job_title - remove_word\n",
        "\n",
        "final_title"
      ],
      "metadata": {
        "colab": {
          "base_uri": "https://localhost:8080/",
          "height": 211
        },
        "id": "7AMeUV3AIjdx",
        "outputId": "4f180ab7-7108-4c89-bc44-8d6a2e2ca23e"
      },
      "execution_count": null,
      "outputs": [
        {
          "output_type": "error",
          "ename": "TypeError",
          "evalue": "unsupported operand type(s) for -: 'str' and 'str'",
          "traceback": [
            "\u001b[0;31m---------------------------------------------------------------------------\u001b[0m",
            "\u001b[0;31mTypeError\u001b[0m                                 Traceback (most recent call last)",
            "\u001b[0;32m<ipython-input-21-4116ff37cb9e>\u001b[0m in \u001b[0;36m<cell line: 3>\u001b[0;34m()\u001b[0m\n\u001b[1;32m      1\u001b[0m \u001b[0mjob_title\u001b[0m \u001b[0;34m=\u001b[0m \u001b[0;34m'Data Analyst'\u001b[0m\u001b[0;34m\u001b[0m\u001b[0;34m\u001b[0m\u001b[0m\n\u001b[1;32m      2\u001b[0m \u001b[0mremove_word\u001b[0m \u001b[0;34m=\u001b[0m \u001b[0;34m'Data'\u001b[0m\u001b[0;34m\u001b[0m\u001b[0;34m\u001b[0m\u001b[0m\n\u001b[0;32m----> 3\u001b[0;31m \u001b[0mfinal_title\u001b[0m \u001b[0;34m=\u001b[0m \u001b[0mjob_title\u001b[0m \u001b[0;34m-\u001b[0m \u001b[0mremove_word\u001b[0m\u001b[0;34m\u001b[0m\u001b[0;34m\u001b[0m\u001b[0m\n\u001b[0m\u001b[1;32m      4\u001b[0m \u001b[0;34m\u001b[0m\u001b[0m\n\u001b[1;32m      5\u001b[0m \u001b[0mfinal_title\u001b[0m\u001b[0;34m\u001b[0m\u001b[0;34m\u001b[0m\u001b[0m\n",
            "\u001b[0;31mTypeError\u001b[0m: unsupported operand type(s) for -: 'str' and 'str'"
          ]
        }
      ]
    },
    {
      "cell_type": "code",
      "source": [
        "skill = 'PYthon'\n",
        "type(skill)"
      ],
      "metadata": {
        "id": "_SHT-i3NNTGn",
        "colab": {
          "base_uri": "https://localhost:8080/"
        },
        "outputId": "5fbb4a56-8c3e-4682-c7d5-cf519b55d3c8"
      },
      "execution_count": null,
      "outputs": [
        {
          "output_type": "execute_result",
          "data": {
            "text/plain": [
              "str"
            ]
          },
          "metadata": {},
          "execution_count": 9
        }
      ]
    },
    {
      "cell_type": "code",
      "source": [
        "help (str)"
      ],
      "metadata": {
        "id": "gU7kd0OMKae5",
        "collapsed": true
      },
      "execution_count": null,
      "outputs": []
    },
    {
      "cell_type": "code",
      "source": [
        "skill.upper()"
      ],
      "metadata": {
        "id": "GJwJdC66Nwtc",
        "colab": {
          "base_uri": "https://localhost:8080/",
          "height": 36
        },
        "outputId": "dab4d93c-934f-4146-aba1-11d4b67a69f4"
      },
      "execution_count": null,
      "outputs": [
        {
          "output_type": "execute_result",
          "data": {
            "text/plain": [
              "'PYTHON'"
            ],
            "application/vnd.google.colaboratory.intrinsic+json": {
              "type": "string"
            }
          },
          "metadata": {},
          "execution_count": 10
        }
      ]
    },
    {
      "cell_type": "code",
      "source": [
        "skill.lower()"
      ],
      "metadata": {
        "id": "7-WEFjKeN3em"
      },
      "execution_count": null,
      "outputs": []
    },
    {
      "cell_type": "code",
      "source": [
        "str.upper(skill)"
      ],
      "metadata": {
        "id": "05Cp-QDZN5a5",
        "colab": {
          "base_uri": "https://localhost:8080/",
          "height": 36
        },
        "outputId": "d931ec52-fa2e-41f1-e5c2-556db6e42729"
      },
      "execution_count": null,
      "outputs": [
        {
          "output_type": "execute_result",
          "data": {
            "text/plain": [
              "'PYTHON'"
            ],
            "application/vnd.google.colaboratory.intrinsic+json": {
              "type": "string"
            }
          },
          "metadata": {},
          "execution_count": 11
        }
      ]
    },
    {
      "cell_type": "code",
      "source": [
        "skill.replace('P', 'J')"
      ],
      "metadata": {
        "id": "ytYQaqkUPumc"
      },
      "execution_count": null,
      "outputs": []
    },
    {
      "cell_type": "markdown",
      "source": [
        "# **skill is itself a class. because all the strings are already a class**"
      ],
      "metadata": {
        "id": "dmLY3PVuQwi_"
      }
    },
    {
      "cell_type": "code",
      "execution_count": null,
      "metadata": {
        "id": "iJDRApbzR3Dm",
        "colab": {
          "base_uri": "https://localhost:8080/"
        },
        "outputId": "aa0947e7-b9c3-4cd5-a40a-e882bce2536c"
      },
      "outputs": [
        {
          "output_type": "execute_result",
          "data": {
            "text/plain": [
              "['Data', 'Analyst']"
            ]
          },
          "metadata": {},
          "execution_count": 8
        }
      ],
      "source": [
        "job_title = \"Data Analyst\"\n",
        "\n",
        "job_title.split(sep=\" \", maxsplit=5)"
      ]
    },
    {
      "cell_type": "code",
      "source": [
        "data_science_jobs = [\n",
        "    {'job_title': 'Data Scientist', 'job_skills': \"Python, SQL, Machine Learning\"},\n",
        "    {'job_title': 'Data Analyst', 'job_skills': \"SQL, Excel, Python\"},\n",
        "    {'job_title': 'Machine Learning Engineer', 'job_skills': \"Python, TensorFlow, Keras\"}\n",
        "]\n",
        "\n",
        "for job in data_science_jobs:\n",
        "   job['job_skills'] = job['job_skills'].split(', ') # آقا این اسپلیت میاد تبدیل به لیست میکنه همه چیزو\n",
        "\n",
        "data_science_jobs"
      ],
      "metadata": {
        "id": "SxfpgZhMQTQO"
      },
      "execution_count": null,
      "outputs": []
    },
    {
      "cell_type": "code",
      "execution_count": null,
      "metadata": {
        "id": "Sli74fV1R3Dn"
      },
      "outputs": [],
      "source": [
        "# This is how you should use the __add__() method\n",
        "\"Data\" + \" Analyst\""
      ]
    },
    {
      "cell_type": "code",
      "execution_count": null,
      "metadata": {
        "id": "ljA3F5c3R3Dn"
      },
      "outputs": [],
      "source": [
        "# instead this is how to invoke the .__len__() method:\n",
        "len(skill)"
      ]
    },
    {
      "cell_type": "code",
      "source": [
        "job_title.replace(\"a\", \"o\" , 1)"
      ],
      "metadata": {
        "id": "EE13x6WFUtdQ",
        "colab": {
          "base_uri": "https://localhost:8080/",
          "height": 36
        },
        "outputId": "476539bf-4082-43fc-95f8-226bace6112e"
      },
      "execution_count": null,
      "outputs": [
        {
          "output_type": "execute_result",
          "data": {
            "text/plain": [
              "'Dota Analyst'"
            ],
            "application/vnd.google.colaboratory.intrinsic+json": {
              "type": "string"
            }
          },
          "metadata": {},
          "execution_count": 17
        }
      ]
    },
    {
      "cell_type": "markdown",
      "metadata": {
        "id": "P8XapaUaXXYQ"
      },
      "source": [
        "# **f-Strings (Formatted String Literals - Preferred)**\n",
        "\n",
        "Use f-strings by prefixing a string with `f` and placing variables or expressions in `{}` braces directly within the string.  \n",
        "They are both concise and efficient."
      ]
    },
    {
      "cell_type": "code",
      "execution_count": null,
      "metadata": {
        "id": "9tRHtfyLXXYQ"
      },
      "outputs": [],
      "source": [
        "print(f'Role: {role}, Skill required: {skill}')"
      ]
    },
    {
      "cell_type": "code",
      "source": [
        "value = 1999\n",
        "print(f'{value}')"
      ],
      "metadata": {
        "colab": {
          "base_uri": "https://localhost:8080/"
        },
        "id": "fpc_T_aCQwKY",
        "outputId": "5fb192b0-70ed-426b-f9be-1ee5874d3c2d"
      },
      "execution_count": null,
      "outputs": [
        {
          "output_type": "stream",
          "name": "stdout",
          "text": [
            "1999\n"
          ]
        }
      ]
    },
    {
      "cell_type": "markdown",
      "metadata": {
        "id": "8QHpQ-1Bf6IM"
      },
      "source": [
        "### Assignment Operators\n",
        "\n",
        "Assignment operators are used to assign values to variables.\n",
        "\n",
        "| Operator | Name                | Example |\n",
        "|----------|---------------------|---------|\n",
        "| =        | Assign              | x = y   |\n",
        "| +=       | Add and assign      | x += y  |\n",
        "| -=       | Subtract and assign | x -= y  |\n",
        "| *=       | Multiply and assign | x *= y  |\n",
        "| /=       | Divide and assign   | x /= y  |\n",
        "| %=       | Modulus and assign  | x %= y  |\n",
        "| **=      | Exponent and assign | x **= y |\n",
        "| //=      | Floor divide and assign | x //= y  |\n"
      ]
    },
    {
      "cell_type": "code",
      "execution_count": null,
      "metadata": {
        "id": "ncg3a1kcikUk"
      },
      "outputs": [],
      "source": [
        "x = 1\n",
        "\n",
        "x += 1 # pythonic\n",
        "\n",
        "x"
      ]
    },
    {
      "cell_type": "code",
      "execution_count": null,
      "metadata": {
        "id": "2CtGdhI_elyo"
      },
      "outputs": [],
      "source": [
        "5 // 2 # integer division"
      ]
    },
    {
      "cell_type": "code",
      "execution_count": null,
      "metadata": {
        "id": "N51WirTzelyo"
      },
      "outputs": [],
      "source": [
        "5 % 2 # remainder of 5 divided by 2"
      ]
    },
    {
      "cell_type": "code",
      "execution_count": null,
      "metadata": {
        "id": "rAmsQBVfikUi"
      },
      "outputs": [],
      "source": [
        "\"What's \" + \"up?\""
      ]
    },
    {
      "cell_type": "code",
      "execution_count": null,
      "metadata": {
        "id": "ftVdHMjgikUi"
      },
      "outputs": [],
      "source": [
        "\"Data Nerd \" * 10 # string multiplication"
      ]
    },
    {
      "cell_type": "code",
      "execution_count": null,
      "metadata": {
        "id": "myvOVxg1ikUk"
      },
      "outputs": [],
      "source": [
        "x = 1\n",
        "y = 2\n",
        "\n",
        "x, y = y, x # swap values\n",
        "\n",
        "print(\"x is now: \", x)\n",
        "print(\"y is now: \", y)"
      ]
    },
    {
      "cell_type": "markdown",
      "metadata": {
        "id": "zj-pJCYUf6mO"
      },
      "source": [
        "### Comparison Operators\n",
        "\n",
        "Comparison operators compare two values and determine the relation between them.\n",
        "\n",
        "| Operator | Name                  | Example |\n",
        "|----------|-----------------------|---------|\n",
        "| ==       | Equal to              | x == y  |\n",
        "| !=       | Not equal to          | x != y  |\n",
        "| >        | Greater than          | x > y   |\n",
        "| <        | Less than             | x < y   |\n",
        "| >=       | Greater than or equal | x >= y  |\n",
        "| <=       | Less than or equal    | x <= y  |\n"
      ]
    },
    {
      "cell_type": "code",
      "execution_count": null,
      "metadata": {
        "id": "8vNimiKwikUk",
        "colab": {
          "base_uri": "https://localhost:8080/",
          "height": 106
        },
        "outputId": "8a194701-b9f7-40f9-db19-0e1558c516de"
      },
      "outputs": [
        {
          "output_type": "error",
          "ename": "SyntaxError",
          "evalue": "cannot assign to literal here. Maybe you meant '==' instead of '='? (<ipython-input-9-ecdac3dcabfd>, line 1)",
          "traceback": [
            "\u001b[0;36m  File \u001b[0;32m\"<ipython-input-9-ecdac3dcabfd>\"\u001b[0;36m, line \u001b[0;32m1\u001b[0m\n\u001b[0;31m    1 = 1\u001b[0m\n\u001b[0m    ^\u001b[0m\n\u001b[0;31mSyntaxError\u001b[0m\u001b[0;31m:\u001b[0m cannot assign to literal here. Maybe you meant '==' instead of '='?\n"
          ]
        }
      ],
      "source": [
        "1 = 1"
      ]
    },
    {
      "cell_type": "code",
      "execution_count": null,
      "metadata": {
        "id": "ou4onjZGikUl"
      },
      "outputs": [],
      "source": [
        "salary_kelly = 50_000\n",
        "salary_luke = 50_000\n",
        "\n",
        "# Are Luke and Kelly's salaries the same?\n",
        "salary_checker = (salary_kelly == salary_luke) # parantheses are optional\n",
        "\n",
        "salary_checker"
      ]
    },
    {
      "cell_type": "code",
      "execution_count": null,
      "metadata": {
        "id": "sI3FvnUWikUl"
      },
      "outputs": [],
      "source": [
        "type(salary_checker)"
      ]
    },
    {
      "cell_type": "markdown",
      "source": [
        "one = is for assigning\n",
        "two == is for comparison"
      ],
      "metadata": {
        "id": "Svr8iN0-vYj-"
      }
    },
    {
      "cell_type": "code",
      "execution_count": null,
      "metadata": {
        "id": "MknARyJljsHd"
      },
      "outputs": [],
      "source": [
        "# Applicant skill\n",
        "applicant_skill = 'SQL'\n",
        "\n",
        "# Skill required for job posting\n",
        "job_skill = 'SQL'\n",
        "\n",
        "years_experience = 5\n",
        "# Check if the applicant's skill matches the required skill of the job posting and they meet the experience requirement.\n",
        "if applicant_skill != job_skill:\n",
        "    result = 'Skills still needed'\n",
        "elif applicant_skill== job_skill and years_experience < 2:\n",
        "    result = 'More experience needed'\n",
        "else:\n",
        "    result = 'Experience matches!'\n",
        "\n",
        "# Print the result\n",
        "result"
      ]
    },
    {
      "cell_type": "markdown",
      "source": [
        "# **we dont have any conditions in front of ELSE.**\n",
        "# **Just an action in the next line**"
      ],
      "metadata": {
        "id": "51mp-o0a3QiE"
      }
    },
    {
      "cell_type": "code",
      "source": [
        "help(list)"
      ],
      "metadata": {
        "id": "L-dBz4k798ds"
      },
      "execution_count": null,
      "outputs": []
    },
    {
      "cell_type": "markdown",
      "source": [
        "# **LISTS**\n",
        "\n",
        "\n",
        "\n"
      ],
      "metadata": {
        "id": "s6FlJMJ_saJc"
      }
    },
    {
      "cell_type": "markdown",
      "source": [
        "# **Important**\n",
        "* SETS are Employed for removing duplicates and for set operations, aiding in data cleaning and preparation.\n",
        "* YOU CAN USE POP and Remove for LISTS\n",
        "\n",
        "*   We use pop for dicts (with key)\n",
        "\n",
        "*   We use Remove for sets\n",
        "\n",
        "*   and nothing for tuples\n",
        "\n",
        "* Dict and set dont have numerical indexing\n",
        "\n",
        "*   we can use numerical indexing for list and tuples\n",
        "\n",
        "* Set *items* are unchangeable but you can still remove items and add new items\n",
        "\n",
        "\n",
        "* list and tuple and range indexing are as follows:\n",
        "### Slicing Lists\n",
        "\n",
        "Slicing Syntax:\n",
        "* Syntax: `list[start:end:step]`  \n",
        "    * `start`: The starting index (inclusive)\n",
        "    * `end`: The ending index (exclusive)\n",
        "    * `step`: Steps to take between items\n",
        "\n",
        "\n",
        "\n",
        "| Feature          | List                                  | Dictionary                           | Set                                | Tuple                             |\n",
        "|------------------|---------------------------------------|--------------------------------------|------------------------------------|-----------------------------------|\n",
        "| USAGE           | `FOR A COLLECTION OF ORDERED ITEMS`                 | `FOR KEY-VALUE PAIRS`   | `FOR UNIQUE ITEMS`              | `FOR FIXED DATA`  |\n",
        "| Syntax           | `[item1, item2, ...]`                 | `{'key1': value1, 'key2': value2}`   | `{item1, item2, ...}`              | `(item1, item2, ...)` or `item,`  |\n",
        "| Type of Data     | Sequence                              | Mapping                              | Set                                | Sequence                          |\n",
        "| Order            | Ordered                               | Unordered                            | Unordered                          | Ordered                           |\n",
        "| Indexing         | Yes (by index)                        | Yes (by key)                         | No                                 | Yes (by index)                    |\n",
        "| Duplicate Values | Allowed                               | Values can be duplicated, keys cannot| Not allowed                        | Allowed                           |\n",
        "| Mutability       | Mutable                               | Mutable                              | Mutable                            | Immutable                         |\n",
        "| Usage            | For a collection of ordered items     | For key-value pairs                  | For unique items                   | For fixed data                    |"
      ],
      "metadata": {
        "id": "mEpX7rCoH-G3"
      }
    },
    {
      "cell_type": "code",
      "execution_count": null,
      "metadata": {
        "id": "Qm_QvWRWBbX3",
        "colab": {
          "base_uri": "https://localhost:8080/"
        },
        "outputId": "16f0f674-5183-4b57-e977-bb7edbaccda8"
      },
      "outputs": [
        {
          "output_type": "execute_result",
          "data": {
            "text/plain": [
              "['sql', 'tableau', 'excel']"
            ]
          },
          "metadata": {},
          "execution_count": 10
        }
      ],
      "source": [
        "# Define a list of data science jobs\n",
        "job_skills = ['sql','tableau','excel']\n",
        "job_skills"
      ]
    },
    {
      "cell_type": "code",
      "execution_count": null,
      "metadata": {
        "id": "V60LL3MFTv9H",
        "colab": {
          "base_uri": "https://localhost:8080/"
        },
        "outputId": "9cd52eda-01d3-46a4-9464-189e97b0c1d5"
      },
      "outputs": [
        {
          "output_type": "execute_result",
          "data": {
            "text/plain": [
              "['sql', 'bigquery', 'excel']"
            ]
          },
          "metadata": {},
          "execution_count": 11
        }
      ],
      "source": [
        "# Change the value of an item\n",
        "job_skills[1] ='bigquery'\n",
        "\n",
        "job_skills"
      ]
    },
    {
      "cell_type": "code",
      "execution_count": null,
      "metadata": {
        "id": "-FX03XO263VL",
        "colab": {
          "base_uri": "https://localhost:8080/"
        },
        "outputId": "f9bc3824-cb30-4067-e605-5fbc6ec9bb72"
      },
      "outputs": [
        {
          "output_type": "execute_result",
          "data": {
            "text/plain": [
              "['sql', 'bigquery', 'excel', 'looker']"
            ]
          },
          "metadata": {},
          "execution_count": 12
        }
      ],
      "source": [
        "## Add a job to the list\n",
        "job_skills.append('looker')\n",
        "\n",
        "job_skills"
      ]
    },
    {
      "cell_type": "code",
      "execution_count": null,
      "metadata": {
        "id": "X1k2Q-oE7BNI",
        "colab": {
          "base_uri": "https://localhost:8080/"
        },
        "outputId": "edd37681-0688-4d2d-e08e-15933cd42af0"
      },
      "outputs": [
        {
          "output_type": "execute_result",
          "data": {
            "text/plain": [
              "['sql', 'bigquery', 'python', 'excel', 'looker']"
            ]
          },
          "metadata": {},
          "execution_count": 13
        }
      ],
      "source": [
        "# Insert an item into the list\n",
        "job_skills.insert(2,'python')\n",
        "\n",
        "job_skills"
      ]
    },
    {
      "cell_type": "code",
      "execution_count": null,
      "metadata": {
        "id": "O_Ad8_2t8eFY",
        "colab": {
          "base_uri": "https://localhost:8080/",
          "height": 193
        },
        "outputId": "759eef63-dc7f-48e7-f7d1-aec5b4ba4a11",
        "collapsed": true
      },
      "outputs": [
        {
          "output_type": "error",
          "ename": "ValueError",
          "evalue": "list.remove(x): x not in list",
          "traceback": [
            "\u001b[0;31m---------------------------------------------------------------------------\u001b[0m",
            "\u001b[0;31mValueError\u001b[0m                                Traceback (most recent call last)",
            "\u001b[0;32m<ipython-input-16-99e4e7bf26c6>\u001b[0m in \u001b[0;36m<cell line: 2>\u001b[0;34m()\u001b[0m\n\u001b[1;32m      1\u001b[0m \u001b[0;31m# Remove an item from the list\u001b[0m\u001b[0;34m\u001b[0m\u001b[0;34m\u001b[0m\u001b[0m\n\u001b[0;32m----> 2\u001b[0;31m \u001b[0mjob_skills\u001b[0m\u001b[0;34m.\u001b[0m\u001b[0mremove\u001b[0m\u001b[0;34m(\u001b[0m\u001b[0;34m'looker'\u001b[0m\u001b[0;34m)\u001b[0m\u001b[0;34m\u001b[0m\u001b[0;34m\u001b[0m\u001b[0m\n\u001b[0m\u001b[1;32m      3\u001b[0m \u001b[0;34m\u001b[0m\u001b[0m\n\u001b[1;32m      4\u001b[0m \u001b[0mjob_skills\u001b[0m\u001b[0;34m\u001b[0m\u001b[0;34m\u001b[0m\u001b[0m\n",
            "\u001b[0;31mValueError\u001b[0m: list.remove(x): x not in list"
          ]
        }
      ],
      "source": [
        "# Remove an item from the list\n",
        "job_skills.remove('looker')\n",
        "\n",
        "job_skills"
      ]
    },
    {
      "cell_type": "code",
      "source": [
        "del job_skills[2]"
      ],
      "metadata": {
        "id": "OVlCSGSkKBfN"
      },
      "execution_count": null,
      "outputs": []
    },
    {
      "cell_type": "code",
      "source": [
        "exampl= job_skills.pop(2)\n",
        "job_skills"
      ],
      "metadata": {
        "id": "IYgzWIUxf0vm",
        "colab": {
          "base_uri": "https://localhost:8080/",
          "height": 36
        },
        "outputId": "baa6fb45-e134-4996-b2ab-632f5875777d"
      },
      "execution_count": null,
      "outputs": [
        {
          "output_type": "execute_result",
          "data": {
            "text/plain": [
              "'excel'"
            ],
            "application/vnd.google.colaboratory.intrinsic+json": {
              "type": "string"
            }
          },
          "metadata": {},
          "execution_count": 34
        }
      ]
    },
    {
      "cell_type": "code",
      "source": [
        "job_skills.pop() # last item"
      ],
      "metadata": {
        "id": "cVVEQYQ2iqir"
      },
      "execution_count": null,
      "outputs": []
    },
    {
      "cell_type": "code",
      "source": [
        "job_skills"
      ],
      "metadata": {
        "id": "ufjz1zrGit2p"
      },
      "execution_count": null,
      "outputs": []
    },
    {
      "cell_type": "code",
      "execution_count": null,
      "metadata": {
        "id": "SAhNt-UjBbYI"
      },
      "outputs": [],
      "source": [
        "# Concatenate\n",
        "skills1 = ['SQL', 'Tableau']\n",
        "skills2 = ['Excel']\n",
        "\n",
        "skills3 = skills1 + skills2\n",
        "skills3"
      ]
    },
    {
      "cell_type": "code",
      "execution_count": null,
      "metadata": {
        "id": "qmf5XAnLBbYI"
      },
      "outputs": [],
      "source": [
        "# Append\n",
        "skills4 = ['Python', 'Power BI']\n",
        "\n",
        "# Append all items from skills3 to skills4 list\n",
        "for x in skills3:\n",
        "    skills4.append(x)\n",
        "\n",
        "skills4"
      ]
    },
    {
      "cell_type": "code",
      "execution_count": null,
      "metadata": {
        "id": "eIYc4r9aBbYJ"
      },
      "outputs": [],
      "source": [
        "# Extend\n",
        "skills5 = ['Statistics', 'Machine Learning']\n",
        "\n",
        "skills5.extend(skills4)\n",
        "\n",
        "skills5"
      ]
    },
    {
      "cell_type": "markdown",
      "source": [
        "# **JOIN**"
      ],
      "metadata": {
        "id": "CYgA4_lpb0PD"
      }
    },
    {
      "cell_type": "code",
      "execution_count": null,
      "metadata": {
        "id": "4ZZ142gO_dfB"
      },
      "outputs": [],
      "source": [
        "skills = ['Python', 'SQL', 'Excel']"
      ]
    },
    {
      "cell_type": "code",
      "source": [
        "op= '.'.join(skills)"
      ],
      "metadata": {
        "id": "waDswUW0A_oT"
      },
      "execution_count": null,
      "outputs": []
    },
    {
      "cell_type": "code",
      "source": [
        "op"
      ],
      "metadata": {
        "id": "7ma9PS6TB04h",
        "colab": {
          "base_uri": "https://localhost:8080/",
          "height": 36
        },
        "outputId": "568a6228-2068-4561-e5f2-cd82220a4327"
      },
      "execution_count": null,
      "outputs": [
        {
          "output_type": "execute_result",
          "data": {
            "text/plain": [
              "'Python.SQL.Excel'"
            ],
            "application/vnd.google.colaboratory.intrinsic+json": {
              "type": "string"
            }
          },
          "metadata": {},
          "execution_count": 21
        }
      ]
    },
    {
      "cell_type": "code",
      "source": [
        "type(op)"
      ],
      "metadata": {
        "id": "2TTrFFNUBq8L",
        "colab": {
          "base_uri": "https://localhost:8080/"
        },
        "outputId": "970f48ed-6587-4afe-ae1b-53b2d70ea1b4"
      },
      "execution_count": null,
      "outputs": [
        {
          "output_type": "execute_result",
          "data": {
            "text/plain": [
              "str"
            ]
          },
          "metadata": {},
          "execution_count": 20
        }
      ]
    },
    {
      "cell_type": "code",
      "source": [
        "help(str.join)"
      ],
      "metadata": {
        "id": "GDJw6iqBBLdC"
      },
      "execution_count": null,
      "outputs": []
    },
    {
      "cell_type": "markdown",
      "source": [
        "# **SLICING**"
      ],
      "metadata": {
        "id": "eLr4kupuXDSC"
      }
    },
    {
      "cell_type": "code",
      "execution_count": null,
      "metadata": {
        "id": "b7IKNkVITjHT",
        "colab": {
          "base_uri": "https://localhost:8080/"
        },
        "outputId": "017e0b37-5186-4912-92b0-645036085cf1"
      },
      "outputs": [
        {
          "output_type": "execute_result",
          "data": {
            "text/plain": [
              "['Python', 'SQL']"
            ]
          },
          "metadata": {},
          "execution_count": 17
        }
      ],
      "source": [
        "skills = ['Python', 'SQL', 'Excel', 'R', 'Java']\n",
        "\n",
        "# Extract the first two items\n",
        "first_two = skills[0:2]\n",
        "first_two"
      ]
    },
    {
      "cell_type": "code",
      "execution_count": null,
      "metadata": {
        "id": "Q_3vOIwBTjHT"
      },
      "outputs": [],
      "source": [
        "full_list = skills[:]\n",
        "full_list"
      ]
    },
    {
      "cell_type": "code",
      "execution_count": null,
      "metadata": {
        "id": "Llp80odATjHT"
      },
      "outputs": [],
      "source": [
        "last_two = skills[3:]\n",
        "last_two"
      ]
    },
    {
      "cell_type": "code",
      "execution_count": null,
      "metadata": {
        "id": "_hWr8jAxTjHT"
      },
      "outputs": [],
      "source": [
        "last_third = skills[-3:]\n",
        "last_third"
      ]
    },
    {
      "cell_type": "code",
      "source": [
        "last_one = skills[-1:]\n",
        "last_one"
      ],
      "metadata": {
        "id": "NCaAcPxBcl-V"
      },
      "execution_count": null,
      "outputs": []
    },
    {
      "cell_type": "code",
      "execution_count": null,
      "metadata": {
        "id": "Yozm2E7uTjHU"
      },
      "outputs": [],
      "source": [
        "# Extract every second item starting from the first\n",
        "every_second = skills[::2]\n",
        "every_second"
      ]
    },
    {
      "cell_type": "code",
      "source": [
        "skill1, skill2, skill3, skill4, skill5 = skills"
      ],
      "metadata": {
        "id": "8tzJ3sAaoneB"
      },
      "execution_count": null,
      "outputs": []
    },
    {
      "cell_type": "code",
      "source": [
        "type(skill1)"
      ],
      "metadata": {
        "colab": {
          "base_uri": "https://localhost:8080/"
        },
        "id": "sOi669XFLj5I",
        "outputId": "22a8f0da-07d9-4708-9fb3-fecfbaf4a6fb"
      },
      "execution_count": null,
      "outputs": [
        {
          "output_type": "execute_result",
          "data": {
            "text/plain": [
              "str"
            ]
          },
          "metadata": {},
          "execution_count": 20
        }
      ]
    },
    {
      "cell_type": "code",
      "source": [
        "print(skill1), print(skill2)\n",
        "print(skill3)\n",
        "print(skill4)\n",
        "print(skill5)"
      ],
      "metadata": {
        "id": "kcdBdAofovym",
        "colab": {
          "base_uri": "https://localhost:8080/"
        },
        "outputId": "4ac60b3f-893a-4d78-bfc2-316dfacae133",
        "collapsed": true
      },
      "execution_count": null,
      "outputs": [
        {
          "output_type": "stream",
          "name": "stdout",
          "text": [
            "Python\n",
            "SQL\n",
            "Excel\n",
            "R\n",
            "Java\n"
          ]
        }
      ]
    },
    {
      "cell_type": "code",
      "source": [
        "*first_skills, skill4, skill5 = skills\n",
        "\n",
        "print(first_skills)\n",
        "print(skill4)\n",
        "print(skill5)"
      ],
      "metadata": {
        "id": "iyxBOkwmqB0Y"
      },
      "execution_count": null,
      "outputs": []
    },
    {
      "cell_type": "markdown",
      "source": [
        "# **ALL THESE *DATA TYPES* ARE ALREADY CLASSSSSSS:**\n",
        "\n",
        "# MUTABLE OBJECTS:\n",
        "1. LISTS\n",
        "2. DICTIONARIES\n",
        "3. SETS\n",
        "\n",
        "# IMMUTABLE OBJECTS:\n",
        "1. STRINGS\n",
        "2. INTEGERS\n",
        "3. FLOAT\n",
        "4. TUPLES"
      ],
      "metadata": {
        "id": "izbExipNP9rH"
      }
    },
    {
      "cell_type": "code",
      "source": [
        "help(dict)"
      ],
      "metadata": {
        "id": "VXYivJWfdRsj"
      },
      "execution_count": null,
      "outputs": []
    },
    {
      "cell_type": "markdown",
      "source": [
        "* COLON    :\n",
        "* SEMICOLON    ;\n"
      ],
      "metadata": {
        "id": "ipLKdkkGWtYI"
      }
    },
    {
      "cell_type": "markdown",
      "source": [
        "# **DICTIONARIES**"
      ],
      "metadata": {
        "id": "VdkJmCd57iTp"
      }
    },
    {
      "cell_type": "code",
      "execution_count": null,
      "metadata": {
        "id": "VPSI49Kt86Cn",
        "colab": {
          "base_uri": "https://localhost:8080/"
        },
        "outputId": "8a2d5dd8-cfa6-4735-87ee-21aeb9604bcb"
      },
      "outputs": [
        {
          "output_type": "execute_result",
          "data": {
            "text/plain": [
              "{'database': 'postgresql', 'language': 'python', 'library': 'pandas'}"
            ]
          },
          "metadata": {},
          "execution_count": 22
        }
      ],
      "source": [
        "# Define a dictionary of data science skills\n",
        "job_type_skills = {\n",
        "    'database': 'postgresql',\n",
        "    'language': 'python',\n",
        "    'library': 'pandas'\n",
        "}\n",
        "\n",
        "job_type_skills"
      ]
    },
    {
      "cell_type": "code",
      "source": [
        "job_type_skills['language']"
      ],
      "metadata": {
        "id": "NwN9bmse7w1y"
      },
      "execution_count": null,
      "outputs": []
    },
    {
      "cell_type": "code",
      "source": [
        "job_type_skills.get('language')"
      ],
      "metadata": {
        "id": "DG9xbDNa7xgA"
      },
      "execution_count": null,
      "outputs": []
    },
    {
      "cell_type": "code",
      "execution_count": null,
      "metadata": {
        "id": "QJfQ4nmR7TGR"
      },
      "outputs": [],
      "source": [
        "job_type_skills.get('analytics', 'not found')"
      ]
    },
    {
      "cell_type": "code",
      "execution_count": null,
      "metadata": {
        "id": "sBmT7t5g7TGR"
      },
      "outputs": [],
      "source": [
        "job_type_skills.keys()\n"
      ]
    },
    {
      "cell_type": "code",
      "execution_count": null,
      "metadata": {
        "id": "uXxKROh07TGR"
      },
      "outputs": [],
      "source": [
        "job_type_skills.values()\n"
      ]
    },
    {
      "cell_type": "code",
      "execution_count": null,
      "metadata": {
        "id": "NGAu2ZjO7TGR"
      },
      "outputs": [],
      "source": [
        "job_type_skills.items()"
      ]
    },
    {
      "cell_type": "code",
      "execution_count": null,
      "metadata": {
        "id": "9e0KuHPf7TGR",
        "colab": {
          "base_uri": "https://localhost:8080/"
        },
        "outputId": "70bd109b-a6fd-4ea8-b48a-3f632f933277"
      },
      "outputs": [
        {
          "output_type": "execute_result",
          "data": {
            "text/plain": [
              "{'database': 'postgresql', 'language': 'python'}"
            ]
          },
          "metadata": {},
          "execution_count": 23
        }
      ],
      "source": [
        "job_type_skills.pop('library')\n",
        "job_type_skills"
      ]
    },
    {
      "cell_type": "markdown",
      "metadata": {
        "id": "HO6scXU8DfcI"
      },
      "source": [
        "## Add Items\n",
        "\n",
        "You can add items by either:"
      ]
    },
    {
      "cell_type": "markdown",
      "metadata": {
        "id": "OT-MNnyp7TGS"
      },
      "source": [
        "### Direct Assignment\n",
        "\n",
        "# **Direct assignment which assigns a value to a *new* or *existing* key directly.**"
      ]
    },
    {
      "cell_type": "code",
      "execution_count": null,
      "metadata": {
        "id": "QEGr5vn97TGS",
        "colab": {
          "base_uri": "https://localhost:8080/"
        },
        "outputId": "5d22f5e4-18af-472b-df3d-d51eb8fbbda7"
      },
      "outputs": [
        {
          "output_type": "execute_result",
          "data": {
            "text/plain": [
              "{'database': 'postgresql', 'language': 'sql', 'framework': 'flask'}"
            ]
          },
          "metadata": {},
          "execution_count": 24
        }
      ],
      "source": [
        "# Direct assignment\n",
        "job_type_skills['framework'] = 'flask'\n",
        "job_type_skills['language'] = 'sql'\n",
        "\n",
        "# Return dictionary\n",
        "job_type_skills"
      ]
    },
    {
      "cell_type": "markdown",
      "metadata": {
        "id": "UuOmw0Rq7TGS"
      },
      "source": [
        "### Update()\n",
        "\n",
        "Use the `update()` method which can add multiple items at once."
      ]
    },
    {
      "cell_type": "code",
      "execution_count": null,
      "metadata": {
        "id": "9FAFtzpi7TGS"
      },
      "outputs": [],
      "source": [
        "# Update\n",
        "job_type_skills.update({'cloud': 'google cloud', 'version_control': 'git'})\n",
        "\n",
        "# Return dictionary\n",
        "job_type_skills"
      ]
    },
    {
      "cell_type": "markdown",
      "source": [
        "# **SETS**"
      ],
      "metadata": {
        "id": "SaK6c_B4Lak4"
      }
    },
    {
      "cell_type": "code",
      "execution_count": null,
      "metadata": {
        "id": "iWcYVKZCEy8c",
        "colab": {
          "base_uri": "https://localhost:8080/"
        },
        "outputId": "2ab16119-8fb6-497b-d66a-6d1bf714978b"
      },
      "outputs": [
        {
          "output_type": "execute_result",
          "data": {
            "text/plain": [
              "{'python', 'sql', 'statistics', 'tableau'}"
            ]
          },
          "metadata": {},
          "execution_count": 50
        }
      ],
      "source": [
        "# Define a set of data science skills\n",
        "job_skills = {'tableau', 'sql', 'python', 'statistics'}\n",
        "\n",
        "job_skills"
      ]
    },
    {
      "cell_type": "code",
      "execution_count": null,
      "metadata": {
        "id": "Cd615DzNG1qg",
        "colab": {
          "base_uri": "https://localhost:8080/"
        },
        "outputId": "64700e69-9eae-41e5-b930-a372c160b6cf"
      },
      "outputs": [
        {
          "output_type": "execute_result",
          "data": {
            "text/plain": [
              "{'looker', 'python', 'sql', 'statistics', 'tableau'}"
            ]
          },
          "metadata": {},
          "execution_count": 51
        }
      ],
      "source": [
        "# Adding a skill\n",
        "job_skills.add('looker')\n",
        "\n",
        "job_skills"
      ]
    },
    {
      "cell_type": "code",
      "execution_count": null,
      "metadata": {
        "id": "pMZJ0enXG6Sd"
      },
      "outputs": [],
      "source": [
        "# Removing a skill\n",
        "job_skills.remove('statistics')\n",
        "\n",
        "job_skills"
      ]
    },
    {
      "cell_type": "code",
      "execution_count": null,
      "metadata": {
        "id": "2QZU_QUtMqIK"
      },
      "outputs": [],
      "source": [
        "# make a list of skills but some repeated values\n",
        "skill_list = ['python', 'sql', 'statistics', 'tableau', 'python', 'sql', 'statistics', 'tableau']\n",
        "\n",
        "skill_list = list(set(skill_list))\n",
        "\n",
        "skill_list"
      ]
    },
    {
      "cell_type": "markdown",
      "source": [
        "# **TUPLES**"
      ],
      "metadata": {
        "id": "kJkaQ05HWqh1"
      }
    },
    {
      "cell_type": "code",
      "source": [
        "help(tuple)"
      ],
      "metadata": {
        "colab": {
          "base_uri": "https://localhost:8080/"
        },
        "collapsed": true,
        "id": "APaPM3XPHXEZ",
        "outputId": "c6d15ac0-ef9f-49cb-874c-0077dfdb4ed2"
      },
      "execution_count": null,
      "outputs": [
        {
          "output_type": "stream",
          "name": "stdout",
          "text": [
            "Help on class tuple in module builtins:\n",
            "\n",
            "class tuple(object)\n",
            " |  tuple(iterable=(), /)\n",
            " |  \n",
            " |  Built-in immutable sequence.\n",
            " |  \n",
            " |  If no argument is given, the constructor returns an empty tuple.\n",
            " |  If iterable is specified the tuple is initialized from iterable's items.\n",
            " |  \n",
            " |  If the argument is a tuple, the return value is the same object.\n",
            " |  \n",
            " |  Built-in subclasses:\n",
            " |      asyncgen_hooks\n",
            " |      UnraisableHookArgs\n",
            " |  \n",
            " |  Methods defined here:\n",
            " |  \n",
            " |  __add__(self, value, /)\n",
            " |      Return self+value.\n",
            " |  \n",
            " |  __contains__(self, key, /)\n",
            " |      Return key in self.\n",
            " |  \n",
            " |  __eq__(self, value, /)\n",
            " |      Return self==value.\n",
            " |  \n",
            " |  __ge__(self, value, /)\n",
            " |      Return self>=value.\n",
            " |  \n",
            " |  __getattribute__(self, name, /)\n",
            " |      Return getattr(self, name).\n",
            " |  \n",
            " |  __getitem__(self, key, /)\n",
            " |      Return self[key].\n",
            " |  \n",
            " |  __getnewargs__(self, /)\n",
            " |  \n",
            " |  __gt__(self, value, /)\n",
            " |      Return self>value.\n",
            " |  \n",
            " |  __hash__(self, /)\n",
            " |      Return hash(self).\n",
            " |  \n",
            " |  __iter__(self, /)\n",
            " |      Implement iter(self).\n",
            " |  \n",
            " |  __le__(self, value, /)\n",
            " |      Return self<=value.\n",
            " |  \n",
            " |  __len__(self, /)\n",
            " |      Return len(self).\n",
            " |  \n",
            " |  __lt__(self, value, /)\n",
            " |      Return self<value.\n",
            " |  \n",
            " |  __mul__(self, value, /)\n",
            " |      Return self*value.\n",
            " |  \n",
            " |  __ne__(self, value, /)\n",
            " |      Return self!=value.\n",
            " |  \n",
            " |  __repr__(self, /)\n",
            " |      Return repr(self).\n",
            " |  \n",
            " |  __rmul__(self, value, /)\n",
            " |      Return value*self.\n",
            " |  \n",
            " |  count(self, value, /)\n",
            " |      Return number of occurrences of value.\n",
            " |  \n",
            " |  index(self, value, start=0, stop=9223372036854775807, /)\n",
            " |      Return first index of value.\n",
            " |      \n",
            " |      Raises ValueError if the value is not present.\n",
            " |  \n",
            " |  ----------------------------------------------------------------------\n",
            " |  Class methods defined here:\n",
            " |  \n",
            " |  __class_getitem__(...) from builtins.type\n",
            " |      See PEP 585\n",
            " |  \n",
            " |  ----------------------------------------------------------------------\n",
            " |  Static methods defined here:\n",
            " |  \n",
            " |  __new__(*args, **kwargs) from builtins.type\n",
            " |      Create and return a new object.  See help(type) for accurate signature.\n",
            "\n"
          ]
        }
      ]
    },
    {
      "cell_type": "markdown",
      "source": [
        "**We have 3 options for adding an Item to a tuple:**"
      ],
      "metadata": {
        "id": "LWQ73Ahn464n"
      }
    },
    {
      "cell_type": "code",
      "execution_count": null,
      "metadata": {
        "id": "_HEdzAn4H7Kr",
        "colab": {
          "base_uri": "https://localhost:8080/"
        },
        "outputId": "2ae764d3-3991-4f17-b627-cc58b71e25f4"
      },
      "outputs": [
        {
          "output_type": "execute_result",
          "data": {
            "text/plain": [
              "('python', 'sql', 'statistics', 'tableau', 'looker')"
            ]
          },
          "metadata": {},
          "execution_count": 29
        }
      ],
      "source": [
        "# Define a tuple of data science skills\n",
        "job_skills = ('python', 'sql', 'statistics', 'tableau')\n",
        "job_skills2 =('looker',) # very delicate\n",
        "job_skills3 = job_skills.__add__(job_skills2)\n",
        "job_skills3"
      ]
    },
    {
      "cell_type": "code",
      "source": [
        "job_skills = ('python', 'sql', 'statistics', 'tableau')\n",
        "\n",
        "job_skills = set(job_skills)\n",
        "\n",
        "job_skills.add('looker')\n",
        "\n",
        "job_skills = tuple(job_skills)\n",
        "\n",
        "print(job_skills)\n",
        "id(job_skills)"
      ],
      "metadata": {
        "id": "9ygevKVeWiDa",
        "colab": {
          "base_uri": "https://localhost:8080/"
        },
        "outputId": "64f663c8-13cf-4651-e8fd-fa8fddf433d8"
      },
      "execution_count": null,
      "outputs": [
        {
          "output_type": "stream",
          "name": "stdout",
          "text": [
            "('tableau', 'sql', 'looker', 'statistics', 'python')\n"
          ]
        },
        {
          "output_type": "execute_result",
          "data": {
            "text/plain": [
              "138768520532576"
            ]
          },
          "metadata": {},
          "execution_count": 52
        }
      ]
    },
    {
      "cell_type": "code",
      "source": [
        "job_skills1 = ('python', 'sql')\n",
        "job_skills2= job_skills + job_skills1\n",
        "\n",
        "job_skills2\n"
      ],
      "metadata": {
        "id": "gxD-54J75L0q",
        "colab": {
          "base_uri": "https://localhost:8080/"
        },
        "outputId": "44f1b823-4ed9-40af-9fe3-6d210fe598f2"
      },
      "execution_count": null,
      "outputs": [
        {
          "output_type": "execute_result",
          "data": {
            "text/plain": [
              "('tableau', 'sql', 'looker', 'statistics', 'python', 'python', 'sql')"
            ]
          },
          "metadata": {},
          "execution_count": 53
        }
      ]
    },
    {
      "cell_type": "code",
      "source": [
        "job_skills += job_skills1\n",
        "print(job_skills)\n",
        "id(job_skills)"
      ],
      "metadata": {
        "id": "klbhKnKY5vr_",
        "colab": {
          "base_uri": "https://localhost:8080/"
        },
        "outputId": "b0c7fd7c-a54a-4782-f6b8-aed70afdcee4"
      },
      "execution_count": null,
      "outputs": [
        {
          "output_type": "stream",
          "name": "stdout",
          "text": [
            "('tableau', 'sql', 'looker', 'statistics', 'python', 'python', 'sql')\n"
          ]
        },
        {
          "output_type": "execute_result",
          "data": {
            "text/plain": [
              "138767697240480"
            ]
          },
          "metadata": {},
          "execution_count": 54
        }
      ]
    },
    {
      "cell_type": "code",
      "source": [
        "help(range)"
      ],
      "metadata": {
        "id": "C54z6M3Y7mQo"
      },
      "execution_count": null,
      "outputs": []
    },
    {
      "cell_type": "code",
      "execution_count": null,
      "metadata": {
        "id": "ex4ONYPEw0S9",
        "colab": {
          "base_uri": "https://localhost:8080/"
        },
        "outputId": "7a540f39-b7ff-414b-dafe-34138588d22a"
      },
      "outputs": [
        {
          "output_type": "execute_result",
          "data": {
            "text/plain": [
              "(0, 1, 2, 3, 4)"
            ]
          },
          "metadata": {},
          "execution_count": 30
        }
      ],
      "source": [
        "tuple(range(5))"
      ]
    },
    {
      "cell_type": "code",
      "execution_count": null,
      "metadata": {
        "id": "7SO4EIlnw0S9",
        "colab": {
          "base_uri": "https://localhost:8080/"
        },
        "outputId": "d38ade79-26a6-45d8-f786-afce0f2e3dc7"
      },
      "outputs": [
        {
          "output_type": "execute_result",
          "data": {
            "text/plain": [
              "[2, 3, 4]"
            ]
          },
          "metadata": {},
          "execution_count": 31
        }
      ],
      "source": [
        "list(range(2,5))"
      ]
    },
    {
      "cell_type": "markdown",
      "metadata": {
        "id": "DwBjb2Vcf66Y"
      },
      "source": [
        "### Logical Operators\n",
        "\n",
        "Logical operators connect two or more conditions and evaluate the truth or falsity of the conditions combined.\n",
        "\n",
        "| Operator | Name     | Example |\n",
        "|----------|----------|---------|\n",
        "| and      | Logical AND | x and y |\n",
        "| or       | Logical OR  | x or y  |\n",
        "| not      | Logical NOT | not x   |\n"
      ]
    },
    {
      "cell_type": "markdown",
      "metadata": {
        "id": "-rtO30vIv4Ps"
      },
      "source": [
        "### Membership Operators\n",
        "\n",
        "Membership operators test for membership in a sequence, such as strings, lists, or tuples.\n",
        "\n",
        "| Operator | Name            | Example   |\n",
        "|----------|-----------------|-----------|\n",
        "| in       | Membership      | x in y    |\n",
        "| not in   | Not membership  | x not in y|\n"
      ]
    },
    {
      "cell_type": "markdown",
      "source": [
        "# **LOOPS**"
      ],
      "metadata": {
        "id": "EE0BvSc3DbWA"
      }
    },
    {
      "cell_type": "code",
      "source": [
        "years_experience = {\n",
        "    'luke': 3,\n",
        "    'kelly': 5,\n",
        "    'john': 2,\n",
        "    'amin': 7\n",
        "}"
      ],
      "metadata": {
        "id": "3l1v_2XmDdsR"
      },
      "execution_count": null,
      "outputs": []
    },
    {
      "cell_type": "code",
      "source": [
        "for person in years_experience:\n",
        "    print(person)"
      ],
      "metadata": {
        "id": "2SGKkOuPDysM"
      },
      "execution_count": null,
      "outputs": []
    },
    {
      "cell_type": "code",
      "source": [
        "for year in years_experience.values():\n",
        "    print(year)"
      ],
      "metadata": {
        "id": "OAUWezVmD4pF"
      },
      "execution_count": null,
      "outputs": []
    },
    {
      "cell_type": "code",
      "source": [
        "for person, year in years_experience.items():\n",
        "  if year > 5:\n",
        "    print(person,year)"
      ],
      "metadata": {
        "id": "FKY2hUQBEMt9"
      },
      "execution_count": null,
      "outputs": []
    },
    {
      "cell_type": "code",
      "source": [
        "for _ in range(4):\n",
        "    print('hello')"
      ],
      "metadata": {
        "id": "kDomo2RdEv8e"
      },
      "execution_count": null,
      "outputs": []
    },
    {
      "cell_type": "markdown",
      "source": [
        "#while is not used commonly"
      ],
      "metadata": {
        "id": "zzbN4wqbP7M0"
      }
    },
    {
      "cell_type": "code",
      "source": [
        "list(years_experience)"
      ],
      "metadata": {
        "colab": {
          "base_uri": "https://localhost:8080/"
        },
        "id": "ZAVMtjclOM-g",
        "outputId": "61cedd0e-7ae6-4f18-f463-3d31f0d4909e"
      },
      "execution_count": null,
      "outputs": [
        {
          "output_type": "execute_result",
          "data": {
            "text/plain": [
              "['luke', 'kelly', 'john', 'amin']"
            ]
          },
          "metadata": {},
          "execution_count": 35
        }
      ]
    },
    {
      "cell_type": "code",
      "source": [
        "list(years_experience.items())"
      ],
      "metadata": {
        "id": "CzNmgGZe_AEC",
        "colab": {
          "base_uri": "https://localhost:8080/"
        },
        "outputId": "1be37a27-d674-44d3-9565-4e2da93d694b"
      },
      "execution_count": null,
      "outputs": [
        {
          "output_type": "execute_result",
          "data": {
            "text/plain": [
              "[('luke', 3), ('kelly', 5), ('john', 2), ('amin', 7)]"
            ]
          },
          "metadata": {},
          "execution_count": 36
        }
      ]
    },
    {
      "cell_type": "markdown",
      "source": [
        "# We turned dictionary into list to be able to call by index:"
      ],
      "metadata": {
        "id": "REaQWHbBG-pH"
      }
    },
    {
      "cell_type": "code",
      "source": [
        "list0 = list(years_experience.items())\n",
        "list0"
      ],
      "metadata": {
        "id": "_G_a6ucNBM_z",
        "colab": {
          "base_uri": "https://localhost:8080/"
        },
        "outputId": "661c5c43-4b2c-455e-9424-d55cc0bb4033"
      },
      "execution_count": null,
      "outputs": [
        {
          "output_type": "execute_result",
          "data": {
            "text/plain": [
              "[('luke', 3), ('kelly', 5), ('john', 2), ('amin', 7)]"
            ]
          },
          "metadata": {},
          "execution_count": 57
        }
      ]
    },
    {
      "cell_type": "code",
      "source": [
        "index = 0\n",
        "while index < 4:\n",
        " key, year = list0[index]\n",
        " if year >= 5:\n",
        "  print (key, 'has', year, 'years of experience')\n",
        "  #print (key + ' has ' + str(year) + ' years of experience')\n",
        "  # print('Qualified for the following roles: ', ', '.join(qualified_roles))\n",
        " index+= 1\n",
        "\n",
        "list0"
      ],
      "metadata": {
        "id": "6ILDYKCuBRkB",
        "colab": {
          "base_uri": "https://localhost:8080/"
        },
        "outputId": "c6cfd601-8cfe-4e66-ee82-cd812d8acdee"
      },
      "execution_count": null,
      "outputs": [
        {
          "output_type": "stream",
          "name": "stdout",
          "text": [
            "kelly has 5 years of experience\n",
            "amin has 7 years of experience\n"
          ]
        },
        {
          "output_type": "execute_result",
          "data": {
            "text/plain": [
              "[('luke', 3), ('kelly', 5), ('john', 2), ('amin', 7)]"
            ]
          },
          "metadata": {},
          "execution_count": 60
        }
      ]
    },
    {
      "cell_type": "code",
      "source": [
        "  print (key, 'has', year, 'years of experience')\n",
        "  print (key + ' has ' + str(year) + ' years of experience')\n",
        "  print('Qualified for the following roles: ', ', '.join(qualified_roles))"
      ],
      "metadata": {
        "id": "liT6-EvAbDRH"
      },
      "execution_count": null,
      "outputs": []
    },
    {
      "cell_type": "markdown",
      "source": [
        "# LIST COMPREHENSION"
      ],
      "metadata": {
        "id": "6HR3-ux1LSXk"
      }
    },
    {
      "cell_type": "code",
      "source": [
        "[x**3 for x in range(4)]"
      ],
      "metadata": {
        "id": "p03xMMuWLYH2"
      },
      "execution_count": null,
      "outputs": []
    },
    {
      "cell_type": "code",
      "source": [
        "[x for x in 'PYTHON']"
      ],
      "metadata": {
        "id": "nJwNMrSVLhl7"
      },
      "execution_count": null,
      "outputs": []
    },
    {
      "cell_type": "markdown",
      "source": [
        "# Same result"
      ],
      "metadata": {
        "id": "NJr_OKH4NHt1"
      }
    },
    {
      "cell_type": "code",
      "source": [
        "analyst_list = []\n",
        "for job in job_list:\n",
        " if \"data_analyst\" in job:\n",
        "  analyst_list.append(job)"
      ],
      "metadata": {
        "id": "HHQuwTtxLsmG",
        "colab": {
          "base_uri": "https://localhost:8080/",
          "height": 193
        },
        "collapsed": true,
        "outputId": "b27513d1-108a-41ec-866f-ba2e88000a80"
      },
      "execution_count": null,
      "outputs": [
        {
          "output_type": "error",
          "ename": "NameError",
          "evalue": "name 'job_list' is not defined",
          "traceback": [
            "\u001b[0;31m---------------------------------------------------------------------------\u001b[0m",
            "\u001b[0;31mNameError\u001b[0m                                 Traceback (most recent call last)",
            "\u001b[0;32m<ipython-input-38-0e5e7782085b>\u001b[0m in \u001b[0;36m<cell line: 2>\u001b[0;34m()\u001b[0m\n\u001b[1;32m      1\u001b[0m \u001b[0manalyst_list\u001b[0m \u001b[0;34m=\u001b[0m \u001b[0;34m[\u001b[0m\u001b[0;34m]\u001b[0m\u001b[0;34m\u001b[0m\u001b[0;34m\u001b[0m\u001b[0m\n\u001b[0;32m----> 2\u001b[0;31m \u001b[0;32mfor\u001b[0m \u001b[0mjob\u001b[0m \u001b[0;32min\u001b[0m \u001b[0mjob_list\u001b[0m\u001b[0;34m:\u001b[0m\u001b[0;34m\u001b[0m\u001b[0;34m\u001b[0m\u001b[0m\n\u001b[0m\u001b[1;32m      3\u001b[0m  \u001b[0;32mif\u001b[0m \u001b[0;34m\"data_analyst\"\u001b[0m \u001b[0;32min\u001b[0m \u001b[0mjob\u001b[0m\u001b[0;34m:\u001b[0m\u001b[0;34m\u001b[0m\u001b[0;34m\u001b[0m\u001b[0m\n\u001b[1;32m      4\u001b[0m   \u001b[0manalyst_list\u001b[0m\u001b[0;34m.\u001b[0m\u001b[0mappend\u001b[0m\u001b[0;34m(\u001b[0m\u001b[0mjob\u001b[0m\u001b[0;34m)\u001b[0m\u001b[0;34m\u001b[0m\u001b[0;34m\u001b[0m\u001b[0m\n",
            "\u001b[0;31mNameError\u001b[0m: name 'job_list' is not defined"
          ]
        }
      ]
    },
    {
      "cell_type": "code",
      "source": [
        "analyst_list = [job for job in job_list if \"data_analyst\" in job]\n",
        "analyst_list"
      ],
      "metadata": {
        "id": "F5ZzvD42M9GO"
      },
      "execution_count": null,
      "outputs": []
    },
    {
      "cell_type": "markdown",
      "source": [
        "# **EXCERCISE**\n",
        "* There is a list called job_roles, in which there are some roles with their associated needed skills.\n",
        "we have our own skills called my_skills.\n",
        "we want the roles that our my_skills is a subset of their skills."
      ],
      "metadata": {
        "id": "iOZGzuxjHRPU"
      }
    },
    {
      "cell_type": "code",
      "execution_count": null,
      "metadata": {
        "id": "SvrmBJzjDY4P"
      },
      "outputs": [],
      "source": [
        "\n",
        "# Define data science job roles and required skills\n",
        "job_roles = [\n",
        "    {'role': 'Data Analyst', 'skills': ['Python', 'SQL', 'Excel']},\n",
        "    {'role': 'Data Scientist', 'skills': ['Python', 'R', 'Machine Learning', 'Deep Learning']},\n",
        "    {'role': 'Machine Learning Engineer', 'skills': ['Python', 'TensorFlow', 'PyTorch', 'Scikit-Learn']},\n",
        "    {'role': 'Data Engineer', 'skills': ['Python', 'Apache Spark', 'Hadoop', 'SQL']},\n",
        "    {'role': 'Business Intelligence Analyst', 'skills': ['Python', 'SQL', 'Tableau', 'Power BI', 'Excel']},\n",
        "    {'role': 'Quantitative Analyst', 'skills': ['R', 'Python', 'MATLAB', 'Statistics']},\n",
        "    {'role': 'Operations Analyst', 'skills': ['Python', 'SQL', 'Data Visualization', 'Process Improvement']},\n",
        "    {'role': 'Database Administrator', 'skills': ['SQL', 'Oracle', 'MySQL', 'Database Management']},\n",
        "    {'role': 'AI Engineer', 'skills': ['Python', 'TensorFlow', 'PyTorch', 'Computer Vision']},\n",
        "    {'role': 'Statistician', 'skills': ['R', 'SAS', 'Python', 'Statistical Modeling']}\n",
        "]\n",
        "# My skills\n",
        "my_skills = ['Python', 'SQL', 'Excel']"
      ]
    },
    {
      "cell_type": "markdown",
      "source": [
        "FIRST SOLUTION: FOR - SUBSET"
      ],
      "metadata": {
        "id": "q6K0Ewj2iA66"
      }
    },
    {
      "cell_type": "code",
      "source": [
        "help(set.issubset)"
      ],
      "metadata": {
        "id": "qTIflVimGDBY"
      },
      "execution_count": null,
      "outputs": []
    },
    {
      "cell_type": "code",
      "source": [
        "selected_jobs = []\n",
        "for job in job_roles:\n",
        "  if set(my_skills).issubset(job['skills']):\n",
        "    selected_jobs.append(job)\n",
        "    print(job['role'] + '/n')\n",
        "    print(job['skills'])\n",
        "\n",
        "selected_jobs"
      ],
      "metadata": {
        "id": "1gWYNg7ODiUj",
        "colab": {
          "base_uri": "https://localhost:8080/"
        },
        "outputId": "57da4140-1706-40ea-f016-e0c657356d36",
        "collapsed": true
      },
      "execution_count": null,
      "outputs": [
        {
          "output_type": "stream",
          "name": "stdout",
          "text": [
            "Data Analyst/n\n",
            "['Python', 'SQL', 'Excel']\n",
            "Business Intelligence Analyst/n\n",
            "['Python', 'SQL', 'Tableau', 'Power BI', 'Excel']\n"
          ]
        },
        {
          "output_type": "execute_result",
          "data": {
            "text/plain": [
              "[{'role': 'Data Analyst', 'skills': ['Python', 'SQL', 'Excel']},\n",
              " {'role': 'Business Intelligence Analyst',\n",
              "  'skills': ['Python', 'SQL', 'Tableau', 'Power BI', 'Excel']}]"
            ]
          },
          "metadata": {},
          "execution_count": 4
        }
      ]
    },
    {
      "cell_type": "markdown",
      "source": [
        "SECOND SOLUTION: LIST COMPREHENSION -SUBSET"
      ],
      "metadata": {
        "id": "_9weZMGDiOam"
      }
    },
    {
      "cell_type": "code",
      "source": [
        "qualified_roles = [ job['role'] for job in job_roles if set(my_skills).issubset(job['skills'])]\n",
        "qualified_roles"
      ],
      "metadata": {
        "colab": {
          "base_uri": "https://localhost:8080/"
        },
        "id": "xQSMBBU6SoPu",
        "outputId": "a8612d9a-02f8-4a98-d278-8b036bd2e0b7"
      },
      "execution_count": null,
      "outputs": [
        {
          "output_type": "execute_result",
          "data": {
            "text/plain": [
              "['Data Analyst', 'Business Intelligence Analyst']"
            ]
          },
          "metadata": {},
          "execution_count": 45
        }
      ]
    },
    {
      "cell_type": "markdown",
      "source": [
        "THIRD SOLUTION: FOR - ALL"
      ],
      "metadata": {
        "id": "OXDnwqiDgcwV"
      }
    },
    {
      "cell_type": "code",
      "source": [
        "qualified_roles = [ ]\n",
        "\n",
        "for job in job_roles:\n",
        "    if all(skill in job['skills'] for skill in my_skills):\n",
        "        qualified_roles.append(job['role'])\n",
        "\n",
        "qualified_roles"
      ],
      "metadata": {
        "colab": {
          "base_uri": "https://localhost:8080/"
        },
        "id": "kRpCpzAqRKIS",
        "outputId": "714819a6-ef59-404a-84b5-946d1c2520fc"
      },
      "execution_count": null,
      "outputs": [
        {
          "output_type": "execute_result",
          "data": {
            "text/plain": [
              "['Data Analyst', 'Business Intelligence Analyst']"
            ]
          },
          "metadata": {},
          "execution_count": 41
        }
      ]
    },
    {
      "cell_type": "markdown",
      "source": [
        "FOURTH SOLUTION: LIST COMPREHENSION -ALL"
      ],
      "metadata": {
        "id": "ibfaQc3zY41O"
      }
    },
    {
      "cell_type": "code",
      "execution_count": null,
      "metadata": {
        "id": "DWCvZofwDY4k",
        "colab": {
          "base_uri": "https://localhost:8080/"
        },
        "outputId": "5f630a19-4cd2-4f1c-e28c-b1c150c42112"
      },
      "outputs": [
        {
          "output_type": "stream",
          "name": "stdout",
          "text": [
            "Qualified for the following roles:  Data Analyst, Business Intelligence Analyst\n"
          ]
        }
      ],
      "source": [
        "qualified_roles = [job['role'] for job in job_roles if all(skill in job['skills'] for skill in my_skills)]\n",
        "\n",
        "print('Qualified for the following roles: ', ', '.join(qualified_roles))"
      ]
    },
    {
      "cell_type": "markdown",
      "source": [
        "# **FUNCTIONS**"
      ],
      "metadata": {
        "id": "0BGFDoGYmlx-"
      }
    },
    {
      "cell_type": "markdown",
      "metadata": {
        "id": "0mNCB4UTk8Y-"
      },
      "source": [
        "## Types of Functions\n",
        "\n",
        "| Type of Function             | Example Function              | Section            |\n",
        "|------------------------------|-------------------------------|--------------------|\n",
        "| Built-In functions           | `max()`                       | 1. Getting Started |\n",
        "| User-defined functions       | `def my_function(): pass`     | 16. Functions      |\n",
        "| Lambda functions             | `lambda x: x + 1`             | 17. Lambda         |\n",
        "| Standard Library functions   | `math.sqrt()`                 | 18. Modules        |\n",
        "| Third-Party Library Functions| `numpy.array()`               | 19. Library        |\n",
        "\n",
        "Note: We won't be covering Generator, Asynchronous, or Recursive Functions as they are out of scope of Data Analytics."
      ]
    },
    {
      "cell_type": "markdown",
      "metadata": {
        "id": "KR6GKlkAk8ZB"
      },
      "source": [
        "## 1- User-Defined Functions (arguments)\n",
        "\n",
        "#### WARNING\n",
        "Do not name your function the same as standard Python objects.\n",
        "\n",
        "For example, this is a bad idea:\n",
        "\n",
        "```python\n",
        "def print(input):\n",
        "    return \"Hello\" + input\n",
        "```\n",
        "\n",
        "In this case the built-in `print()` function would be overridden."
      ]
    },
    {
      "cell_type": "markdown",
      "source": [
        "## Using a default value"
      ],
      "metadata": {
        "id": "Kg19mB1fq3lA"
      }
    },
    {
      "cell_type": "code",
      "execution_count": null,
      "metadata": {
        "id": "pn6mBR3ok8ZF"
      },
      "outputs": [],
      "source": [
        "def calculate_salary(base_salary, bonus_rate=.1):\n",
        "\n",
        "  total_salary = base_salary * (1 + bonus_rate)\n",
        "\n",
        "  return total_salary"
      ]
    },
    {
      "cell_type": "code",
      "execution_count": null,
      "metadata": {
        "id": "gAlGsKN7k8ZJ"
      },
      "outputs": [],
      "source": [
        "salary_1 = 100000\n",
        "rate_1 = 0.5\n",
        "calculate_salary(salary_1, rate_1)\n",
        "\n",
        "\n",
        "\n",
        "calculate_salary(salary_1)"
      ]
    },
    {
      "cell_type": "markdown",
      "source": [
        "## Using None to make an argument optional"
      ],
      "metadata": {
        "id": "P1dgwtM9VeB1"
      }
    },
    {
      "cell_type": "code",
      "source": [
        " def describe_pet(animal, name=None):\n",
        "  print(\"\\nI have a \" + animal + \".\")\n",
        "  if name:\n",
        "    print(\"Its name is \" + name + \".\")\n",
        "describe_pet('horse', 'harry')\n",
        "describe_pet('snake')"
      ],
      "metadata": {
        "id": "NvFen2N-S_mP",
        "colab": {
          "base_uri": "https://localhost:8080/"
        },
        "collapsed": true,
        "outputId": "aa0162ef-1267-49d0-88be-d3c94f1ff72b"
      },
      "execution_count": null,
      "outputs": [
        {
          "output_type": "stream",
          "name": "stdout",
          "text": [
            "\n",
            "I have a horse.\n",
            "Its name is harry.\n",
            "\n",
            "I have a snake.\n"
          ]
        }
      ]
    },
    {
      "cell_type": "markdown",
      "source": [
        "## Arbitrary Arguments (*Args)\n",
        "* function receives a **tuple** of arguments."
      ],
      "metadata": {
        "id": "EA5D1Ce1wnTy"
      }
    },
    {
      "cell_type": "code",
      "source": [
        "def analyze_skills(*args):\n",
        "\n",
        "    for skill_salary_pair in args:\n",
        "        skill, salary = skill_salary_pair\n",
        "        print(f'- {skill}: ${salary:,}')\n",
        "\n",
        "analyze_skills(('Data Analyst', 60000), ('Business Analyst', 65000), ('Data Engineer', 90000))"
      ],
      "metadata": {
        "id": "alUpsGJZxl93"
      },
      "execution_count": null,
      "outputs": []
    },
    {
      "cell_type": "markdown",
      "source": [
        "## Arbitrary Keyword Arguments (**Kwargs)\n",
        "* function receives a **dictionary** of arguments."
      ],
      "metadata": {
        "id": "nOPLUMcAxQe3"
      }
    },
    {
      "cell_type": "code",
      "source": [
        "def analyze_skills(**skills_salaries):\n",
        "\n",
        "    for skill, salary in skills_salaries.items():\n",
        "        print(f'- {skill}: ${salary:,}')\n",
        "analyze_skills(Data_Analyst=60000, Business_Analyst=65000, Data_Engineer=90000)"
      ],
      "metadata": {
        "id": "-_hL4f45xzrB",
        "colab": {
          "base_uri": "https://localhost:8080/"
        },
        "outputId": "dd2ae0ec-cdc3-44b9-d4eb-935c9792da91"
      },
      "execution_count": null,
      "outputs": [
        {
          "output_type": "stream",
          "name": "stdout",
          "text": [
            "- Data_Analyst: $60,000\n",
            "- Business_Analyst: $65,000\n",
            "- Data_Engineer: $90,000\n"
          ]
        }
      ]
    },
    {
      "cell_type": "markdown",
      "source": [
        "## 2- lambda Functions"
      ],
      "metadata": {
        "id": "O69Vs1z00Z93"
      }
    },
    {
      "cell_type": "markdown",
      "source": [
        "a point: in the list comprehensions, in the first argument you can use all functions: built-in , user-defined, lambda,..."
      ],
      "metadata": {
        "id": "z_lhV3qf0lj6"
      }
    },
    {
      "cell_type": "code",
      "execution_count": null,
      "metadata": {
        "id": "kjaO5trOJsyS"
      },
      "outputs": [],
      "source": [
        "salary_list = [100000, 200000, 150000, 120000, 80000, 750000]\n",
        "\n",
        "def calculate_salary(base_salary, bonus_rate=.1):\n",
        "  return base_salary * (1 + bonus_rate)\n",
        "\n",
        "total_salary_list = [calculate_salary(salary) for salary in salary_list]\n",
        "\n",
        "total_salary_list"
      ]
    },
    {
      "cell_type": "code",
      "execution_count": null,
      "metadata": {
        "id": "fgtp5WxwJsyS"
      },
      "outputs": [],
      "source": [
        "total_salary_list = [(lambda x: x * (1.1))(salary) for salary in salary_list]\n",
        "\n",
        "total_salary_list"
      ]
    },
    {
      "cell_type": "code",
      "execution_count": null,
      "metadata": {
        "id": "I9zGE3lXJsyT"
      },
      "outputs": [],
      "source": [
        "total_salary_list = [salary * 1.1 for salary in salary_list]\n",
        "\n",
        "total_salary_list"
      ]
    },
    {
      "cell_type": "markdown",
      "source": [
        "# **EXCERCISE** (DATA FILTERING)"
      ],
      "metadata": {
        "id": "zoOHcskSZuQ3"
      }
    },
    {
      "cell_type": "code",
      "execution_count": null,
      "metadata": {
        "id": "Tlcqi_KwJsyT"
      },
      "outputs": [],
      "source": [
        "jobs_data = [\n",
        "    {'job_title': 'Data Scientist',  'job_skills': ['Python', 'Machine Learning'], 'remote': True},\n",
        "    {'job_title': 'Data Analyst',  'job_skills': ['Excel', 'SQL'], 'remote': False},\n",
        "    {'job_title': 'Machine Learning Engineer', 'job_skills': ['Python', 'TensorFlow', 'Keras'], 'remote': True},\n",
        "    {'job_title': 'Software Developer', 'job_skills': ['Java', 'C++'], 'remote': True},\n",
        "    {'job_title': 'Data Scientist', 'job_skills': ['R', 'Statistics'], 'remote': False}\n",
        "]"
      ]
    },
    {
      "cell_type": "code",
      "source": [
        "O= filter(lambda job: job['remote'], jobs_data) # Mrrr Filter_criteria just returns true and false\n",
        "# here we are replacing job with jobs_data\n",
        "O # nonsense\n",
        "list(O)"
      ],
      "metadata": {
        "id": "KElhboFMbA4b",
        "colab": {
          "base_uri": "https://localhost:8080/"
        },
        "outputId": "2e83cda6-3556-4bca-fae9-b80cfd57223a"
      },
      "execution_count": null,
      "outputs": [
        {
          "output_type": "execute_result",
          "data": {
            "text/plain": [
              "[{'job_title': 'Data Scientist',\n",
              "  'job_skills': ['Python', 'Machine Learning'],\n",
              "  'remote': True},\n",
              " {'job_title': 'Machine Learning Engineer',\n",
              "  'job_skills': ['Python', 'TensorFlow', 'Keras'],\n",
              "  'remote': True},\n",
              " {'job_title': 'Software Developer',\n",
              "  'job_skills': ['Java', 'C++'],\n",
              "  'remote': True}]"
            ]
          },
          "metadata": {},
          "execution_count": 51
        }
      ]
    },
    {
      "cell_type": "code",
      "source": [
        "P= filter(lambda job: 'Python' in job['job_skills'] and job['remote'], jobs_data)\n",
        "list(P)"
      ],
      "metadata": {
        "id": "ZgQu8PxncUTR"
      },
      "execution_count": null,
      "outputs": []
    },
    {
      "cell_type": "code",
      "execution_count": null,
      "metadata": {
        "id": "CpXSVpbvJsyU"
      },
      "outputs": [],
      "source": [
        "filter_criteria = lambda job: 'Python' in job['job_skills'] and job['remote']\n",
        "\n",
        "filter(filter_criteria, jobs_data)\n",
        "\n",
        "python_remote_jobs = list(filter(filter_criteria, jobs_data))\n",
        "\n",
        "python_remote_jobs:"
      ]
    },
    {
      "cell_type": "markdown",
      "source": [
        "# 3- MODULES"
      ],
      "metadata": {
        "id": "LHFffN1Xg931"
      }
    },
    {
      "cell_type": "code",
      "source": [
        "import kal\n",
        "kal.skill('python')"
      ],
      "metadata": {
        "colab": {
          "base_uri": "https://localhost:8080/",
          "height": 331
        },
        "id": "C-kwu3f_hnu_",
        "outputId": "e8585706-35b7-44d7-e561-9b7eba0006f2",
        "collapsed": true
      },
      "execution_count": null,
      "outputs": [
        {
          "output_type": "error",
          "ename": "ModuleNotFoundError",
          "evalue": "No module named 'kal'",
          "traceback": [
            "\u001b[0;31m---------------------------------------------------------------------------\u001b[0m",
            "\u001b[0;31mModuleNotFoundError\u001b[0m                       Traceback (most recent call last)",
            "\u001b[0;32m<ipython-input-52-516824d84b6a>\u001b[0m in \u001b[0;36m<cell line: 1>\u001b[0;34m()\u001b[0m\n\u001b[0;32m----> 1\u001b[0;31m \u001b[0;32mimport\u001b[0m \u001b[0mkal\u001b[0m\u001b[0;34m\u001b[0m\u001b[0;34m\u001b[0m\u001b[0m\n\u001b[0m\u001b[1;32m      2\u001b[0m \u001b[0mkal\u001b[0m\u001b[0;34m.\u001b[0m\u001b[0mskill\u001b[0m\u001b[0;34m(\u001b[0m\u001b[0;34m'python'\u001b[0m\u001b[0;34m)\u001b[0m\u001b[0;34m\u001b[0m\u001b[0;34m\u001b[0m\u001b[0m\n",
            "\u001b[0;31mModuleNotFoundError\u001b[0m: No module named 'kal'",
            "",
            "\u001b[0;31m---------------------------------------------------------------------------\u001b[0;32m\nNOTE: If your import is failing due to a missing package, you can\nmanually install dependencies using either !pip or !apt.\n\nTo view examples of installing some common dependencies, click the\n\"Open Examples\" button below.\n\u001b[0;31m---------------------------------------------------------------------------\u001b[0m\n"
          ],
          "errorDetails": {
            "actions": [
              {
                "action": "open_url",
                "actionText": "Open Examples",
                "url": "/notebooks/snippets/importing_libraries.ipynb"
              }
            ]
          }
        }
      ]
    },
    {
      "cell_type": "code",
      "source": [
        "from job_analyzer import calculate_bonus\n",
        "calculate_bonus(5000, 4000)"
      ],
      "metadata": {
        "colab": {
          "base_uri": "https://localhost:8080/"
        },
        "id": "Ku5w54_zkfiZ",
        "outputId": "e99ff197-4cf2-4d07-be0f-d91b1d329c5a"
      },
      "execution_count": null,
      "outputs": [
        {
          "output_type": "execute_result",
          "data": {
            "text/plain": [
              "0.25"
            ]
          },
          "metadata": {},
          "execution_count": 24
        }
      ]
    },
    {
      "cell_type": "code",
      "source": [
        "help(calculate_bonus)"
      ],
      "metadata": {
        "colab": {
          "base_uri": "https://localhost:8080/"
        },
        "id": "5k47qTM4k1NQ",
        "outputId": "033ccfeb-b8e9-4605-8cde-e90406136b1e"
      },
      "execution_count": null,
      "outputs": [
        {
          "output_type": "stream",
          "name": "stdout",
          "text": [
            "Help on function calculate_bonus in module job_analyzer:\n",
            "\n",
            "calculate_bonus(total_salary, base_salary)\n",
            "    Calculate the bonus rate based on the total salary and base salary.\n",
            "    \n",
            "    Args:\n",
            "      total_salary (float): The total salary.\n",
            "      base_salary (float): The base salary.\n",
            "    \n",
            "    Returns:\n",
            "      float: The bonus rate.\n",
            "\n"
          ]
        }
      ]
    },
    {
      "cell_type": "code",
      "source": [
        "from job_analyzer import *   #not preferred"
      ],
      "metadata": {
        "id": "wp4NyUo8k5Ad"
      },
      "execution_count": null,
      "outputs": []
    },
    {
      "cell_type": "markdown",
      "source": [
        "# Functions, modules and libraries which are domestic to python:\n",
        "# you just call these libraries, no need to install htem before.\n",
        "* [Built-in Functions](https://docs.python.org/3/library/functions.html)\n",
        "\n",
        "* [standard libraries](https://docs.python.org/3/library/index.html)\n"
      ],
      "metadata": {
        "id": "obLyper8s7SE"
      }
    },
    {
      "cell_type": "code",
      "source": [
        "import statistics # help on MODULE statistics\n",
        "help(statistics)"
      ],
      "metadata": {
        "collapsed": true,
        "id": "j5mLXLZgxCDG"
      },
      "execution_count": null,
      "outputs": []
    },
    {
      "cell_type": "code",
      "source": [
        "from statistics import mean # from statistics MODULE, we are importing mean FUNCTION\n",
        "help (mean)"
      ],
      "metadata": {
        "colab": {
          "base_uri": "https://localhost:8080/"
        },
        "collapsed": true,
        "id": "O6iaj5Wyyv_P",
        "outputId": "e893ea05-6fae-4b5c-eba3-9771bc630ace"
      },
      "execution_count": null,
      "outputs": [
        {
          "output_type": "stream",
          "name": "stdout",
          "text": [
            "Help on function mean in module statistics:\n",
            "\n",
            "mean(data)\n",
            "    Return the sample arithmetic mean of data.\n",
            "    \n",
            "    >>> mean([1, 2, 3, 4, 4])\n",
            "    2.8\n",
            "    \n",
            "    >>> from fractions import Fraction as F\n",
            "    >>> mean([F(3, 7), F(1, 21), F(5, 3), F(1, 3)])\n",
            "    Fraction(13, 21)\n",
            "    \n",
            "    >>> from decimal import Decimal as D\n",
            "    >>> mean([D(\"0.5\"), D(\"0.75\"), D(\"0.625\"), D(\"0.375\")])\n",
            "    Decimal('0.5625')\n",
            "    \n",
            "    If ``data`` is empty, StatisticsError will be raised.\n",
            "\n"
          ]
        }
      ]
    },
    {
      "cell_type": "code",
      "source": [
        "salary_listtt = [345345,435435,345345]\n",
        "from statistics import mean, mode, median # from statistics MODULE, we are importing mean FUNCTION\n",
        "\n",
        "print(mean(salary_listtt))\n",
        "print(mode(salary_listtt))\n",
        "print(median(salary_listtt))"
      ],
      "metadata": {
        "colab": {
          "base_uri": "https://localhost:8080/"
        },
        "id": "L8PloeIQrE7E",
        "outputId": "b8d8787f-d8d3-46bf-a96f-b05aeb7bd592"
      },
      "execution_count": null,
      "outputs": [
        {
          "output_type": "stream",
          "name": "stdout",
          "text": [
            "375375\n",
            "345345\n",
            "345345\n"
          ]
        }
      ]
    },
    {
      "cell_type": "code",
      "source": [
        "from datetime import datetime  # from datetime MODULE, we are importing datetime CLASS\n",
        "help(datetime)"
      ],
      "metadata": {
        "collapsed": true,
        "id": "GWOKUv_zpBXi"
      },
      "execution_count": null,
      "outputs": []
    },
    {
      "cell_type": "markdown",
      "source": [
        "# **(some functions or some classes or mixed) constitute module**\n",
        "\n",
        "\n",
        "\n",
        "# **some modules constitute packages or libraries**"
      ],
      "metadata": {
        "id": "juWUQHZD36Q4"
      }
    },
    {
      "cell_type": "markdown",
      "source": [
        "# **excercise data cleanup**"
      ],
      "metadata": {
        "id": "fwYh90-rvI3j"
      }
    },
    {
      "cell_type": "markdown",
      "source": [
        "Turn the 'job_date' from a string value to a date time object.\n",
        "\n",
        "\n",
        "Turn the 'job_skills' from a string value to an actual list object.\n",
        "\n",
        "\n",
        "\n",
        "\n",
        "\n",
        "\n",
        "\n",
        "\n",
        "\n",
        "\n",
        "\n",
        "\n"
      ],
      "metadata": {
        "id": "FEneNKPowZiB"
      }
    },
    {
      "cell_type": "markdown",
      "source": [
        "using domestic libraries like Date time"
      ],
      "metadata": {
        "id": "8u38vZfeXvji"
      }
    },
    {
      "cell_type": "code",
      "execution_count": null,
      "metadata": {
        "id": "d_K9klzXvDck"
      },
      "outputs": [],
      "source": [
        "data_science_jobs = [\n",
        "    {'job_title': 'Data Scientist', 'job_skills': \"['Python', 'SQL', 'Machine Learning']\", 'job_date': '2023-05-12'},\n",
        "    {'job_title': 'Machine Learning Engineer', 'job_skills': \"['Python', 'TensorFlow', 'Deep Learning']\", 'job_date': '2023-05-15'},\n",
        "    {'job_title': 'Data Analyst', 'job_skills': \"['SQL', 'R', 'Tableau']\", 'job_date': '2023-05-10'},\n",
        "    {'job_title': 'Business Intelligence Developer', 'job_skills': \"['SQL', 'PowerBI', 'Data Warehousing']\", 'job_date': '2023-05-08'},\n",
        "    {'job_title': 'Data Engineer', 'job_skills': \"['Python', 'Spark', 'Hadoop']\", 'job_date': '2023-05-18'},\n",
        "    {'job_title': 'AI Specialist', 'job_skills': \"['Python', 'PyTorch', 'AI Ethics']\", 'job_date': '2023-05-20'}\n",
        "]"
      ]
    },
    {
      "cell_type": "code",
      "execution_count": null,
      "metadata": {
        "id": "EJLCWAQMvDcl",
        "outputId": "3e4a651e-7d01-4886-c3cb-07497f7c68ed",
        "colab": {
          "base_uri": "https://localhost:8080/"
        }
      },
      "outputs": [
        {
          "output_type": "stream",
          "name": "stdout",
          "text": [
            "2023-05-12\n"
          ]
        },
        {
          "output_type": "execute_result",
          "data": {
            "text/plain": [
              "str"
            ]
          },
          "metadata": {},
          "execution_count": 36
        }
      ],
      "source": [
        "print(data_science_jobs[0]['job_date'])\n",
        "type(data_science_jobs[0]['job_date'])"
      ]
    },
    {
      "cell_type": "code",
      "source": [
        "test_date = data_science_jobs[0]['job_date']\n",
        "print(datetime.strptime(test_date, '%Y-%m-%d'))"
      ],
      "metadata": {
        "colab": {
          "base_uri": "https://localhost:8080/"
        },
        "id": "uV9OtVgg0X8A",
        "outputId": "e2d1d736-6d01-4f4e-8147-4113285ba817"
      },
      "execution_count": null,
      "outputs": [
        {
          "output_type": "stream",
          "name": "stdout",
          "text": [
            "2023-05-12 00:00:00\n"
          ]
        }
      ]
    },
    {
      "cell_type": "code",
      "source": [
        "for job in data_science_jobs:\n",
        "  job['job_date'] = datetime.strptime(job['job_date'], '%Y-%m-%d')\n",
        "\n",
        "data_science_jobs"
      ],
      "metadata": {
        "colab": {
          "base_uri": "https://localhost:8080/"
        },
        "id": "KThDUXup1MXs",
        "outputId": "bff3c97f-47d8-4020-f3d6-105ab82bf90e",
        "collapsed": true
      },
      "execution_count": null,
      "outputs": [
        {
          "output_type": "execute_result",
          "data": {
            "text/plain": [
              "[{'job_title': 'Data Scientist',\n",
              "  'job_skills': \"['Python', 'SQL', 'Machine Learning']\",\n",
              "  'job_date': datetime.datetime(2023, 5, 12, 0, 0)},\n",
              " {'job_title': 'Machine Learning Engineer',\n",
              "  'job_skills': \"['Python', 'TensorFlow', 'Deep Learning']\",\n",
              "  'job_date': datetime.datetime(2023, 5, 15, 0, 0)},\n",
              " {'job_title': 'Data Analyst',\n",
              "  'job_skills': \"['SQL', 'R', 'Tableau']\",\n",
              "  'job_date': datetime.datetime(2023, 5, 10, 0, 0)},\n",
              " {'job_title': 'Business Intelligence Developer',\n",
              "  'job_skills': \"['SQL', 'PowerBI', 'Data Warehousing']\",\n",
              "  'job_date': datetime.datetime(2023, 5, 8, 0, 0)},\n",
              " {'job_title': 'Data Engineer',\n",
              "  'job_skills': \"['Python', 'Spark', 'Hadoop']\",\n",
              "  'job_date': datetime.datetime(2023, 5, 18, 0, 0)},\n",
              " {'job_title': 'AI Specialist',\n",
              "  'job_skills': \"['Python', 'PyTorch', 'AI Ethics']\",\n",
              "  'job_date': datetime.datetime(2023, 5, 20, 0, 0)}]"
            ]
          },
          "metadata": {},
          "execution_count": 56
        }
      ]
    },
    {
      "cell_type": "code",
      "source": [
        "print(data_science_jobs[0]['job_skills'])\n",
        "type(data_science_jobs[0]['job_skills'])"
      ],
      "metadata": {
        "colab": {
          "base_uri": "https://localhost:8080/"
        },
        "id": "BjXFPLjYwh8q",
        "outputId": "c97c14ad-ba2a-4303-9e21-a867b01f1929"
      },
      "execution_count": null,
      "outputs": [
        {
          "output_type": "stream",
          "name": "stdout",
          "text": [
            "['Python', 'SQL', 'Machine Learning']\n"
          ]
        },
        {
          "output_type": "execute_result",
          "data": {
            "text/plain": [
              "str"
            ]
          },
          "metadata": {},
          "execution_count": 37
        }
      ]
    },
    {
      "cell_type": "code",
      "source": [
        "import ast\n",
        "for job in data_science_jobs:\n",
        "    job['job_skills'] = ast.literal_eval(job['job_skills'])\n",
        "\n",
        "data_science_jobs"
      ],
      "metadata": {
        "colab": {
          "base_uri": "https://localhost:8080/"
        },
        "id": "eFl-wluc2v49",
        "outputId": "bb3d7433-f3f4-4816-cad3-58073365388d"
      },
      "execution_count": null,
      "outputs": [
        {
          "output_type": "execute_result",
          "data": {
            "text/plain": [
              "[{'job_title': 'Data Scientist',\n",
              "  'job_skills': ['Python', 'SQL', 'Machine Learning'],\n",
              "  'job_date': datetime.datetime(2023, 5, 12, 0, 0)},\n",
              " {'job_title': 'Machine Learning Engineer',\n",
              "  'job_skills': ['Python', 'TensorFlow', 'Deep Learning'],\n",
              "  'job_date': datetime.datetime(2023, 5, 15, 0, 0)},\n",
              " {'job_title': 'Data Analyst',\n",
              "  'job_skills': ['SQL', 'R', 'Tableau'],\n",
              "  'job_date': datetime.datetime(2023, 5, 10, 0, 0)},\n",
              " {'job_title': 'Business Intelligence Developer',\n",
              "  'job_skills': ['SQL', 'PowerBI', 'Data Warehousing'],\n",
              "  'job_date': datetime.datetime(2023, 5, 8, 0, 0)},\n",
              " {'job_title': 'Data Engineer',\n",
              "  'job_skills': ['Python', 'Spark', 'Hadoop'],\n",
              "  'job_date': datetime.datetime(2023, 5, 18, 0, 0)},\n",
              " {'job_title': 'AI Specialist',\n",
              "  'job_skills': ['Python', 'PyTorch', 'AI Ethics'],\n",
              "  'job_date': datetime.datetime(2023, 5, 20, 0, 0)}]"
            ]
          },
          "metadata": {},
          "execution_count": 57
        }
      ]
    },
    {
      "cell_type": "code",
      "execution_count": null,
      "metadata": {
        "id": "iVcTZjP6pip-"
      },
      "outputs": [],
      "source": [
        "file = open('sample_data/california_housing_test.csv')\n",
        "\n",
        "content = file.read()\n",
        "\n",
        "file.close()\n",
        "\n",
        "print(content)"
      ]
    },
    {
      "cell_type": "code",
      "source": [
        "type(content)"
      ],
      "metadata": {
        "colab": {
          "base_uri": "https://localhost:8080/"
        },
        "id": "Yr31UxFpu5VZ",
        "outputId": "3266277c-1ca5-4cfe-eb1e-0e485df49890"
      },
      "execution_count": null,
      "outputs": [
        {
          "output_type": "execute_result",
          "data": {
            "text/plain": [
              "str"
            ]
          },
          "metadata": {},
          "execution_count": 59
        }
      ]
    },
    {
      "cell_type": "code",
      "execution_count": null,
      "metadata": {
        "id": "RW-4LvUCQIGA"
      },
      "outputs": [],
      "source": [
        "import csv\n",
        "\n",
        "data_dict = {}\n",
        "for index, row in enumerate(csv.reader(content.strip().split('\\n'))):\n",
        "    if index == 0:\n",
        "        # Initialize dictionary with column headers as keys\n",
        "        for column in row:\n",
        "            data_dict[column] = []\n",
        "    else:\n",
        "        # Append each element in the row to the correct list in the dictionary\n",
        "        for col_index, value in enumerate(row):\n",
        "            data_dict[list(data_dict.keys())[col_index]].append(value)\n",
        "\n",
        "# Print the dictionary to verify contents\n",
        "print(data_dict)\n"
      ]
    },
    {
      "cell_type": "code",
      "source": [
        "P= data_dict['total_bedrooms']\n",
        "for index, bed in enumerate(P):\n",
        "    P[index] = float(bed)\n"
      ],
      "metadata": {
        "id": "NTALbqn9x8pS"
      },
      "execution_count": null,
      "outputs": []
    },
    {
      "cell_type": "code",
      "source": [
        "sum(data_dict['total_bedrooms'])\n"
      ],
      "metadata": {
        "colab": {
          "base_uri": "https://localhost:8080/"
        },
        "id": "19VdgWGzTGQ7",
        "outputId": "c8d6c7d7-d924-4256-fcc0-85ff5cc17a64"
      },
      "execution_count": null,
      "outputs": [
        {
          "output_type": "execute_result",
          "data": {
            "text/plain": [
              "1589852.0"
            ]
          },
          "metadata": {},
          "execution_count": 69
        }
      ]
    },
    {
      "cell_type": "markdown",
      "source": [
        "# **4- THIRD PARTY LIBRARIES**"
      ],
      "metadata": {
        "id": "FATtZ36lz--n"
      }
    },
    {
      "cell_type": "markdown",
      "source": [
        "# USING THIRD PARTY LIBRARIES:"
      ],
      "metadata": {
        "id": "o50wyCxC5sbP"
      }
    },
    {
      "cell_type": "code",
      "execution_count": null,
      "metadata": {
        "id": "PwampAbH4E4o",
        "colab": {
          "base_uri": "https://localhost:8080/",
          "height": 443
        },
        "outputId": "4fb65708-7fca-4ed1-9e5b-adfb88a5f994"
      },
      "outputs": [
        {
          "output_type": "execute_result",
          "data": {
            "text/plain": [
              "      longitude  latitude  housing_median_age  total_rooms  total_bedrooms  \\\n",
              "0       -122.05     37.37                27.0       3885.0           661.0   \n",
              "1       -118.30     34.26                43.0       1510.0           310.0   \n",
              "2       -117.81     33.78                27.0       3589.0           507.0   \n",
              "3       -118.36     33.82                28.0         67.0            15.0   \n",
              "4       -119.67     36.33                19.0       1241.0           244.0   \n",
              "...         ...       ...                 ...          ...             ...   \n",
              "2995    -119.86     34.42                23.0       1450.0           642.0   \n",
              "2996    -118.14     34.06                27.0       5257.0          1082.0   \n",
              "2997    -119.70     36.30                10.0        956.0           201.0   \n",
              "2998    -117.12     34.10                40.0         96.0            14.0   \n",
              "2999    -119.63     34.42                42.0       1765.0           263.0   \n",
              "\n",
              "      population  households  median_income  median_house_value  \n",
              "0         1537.0       606.0         6.6085            344700.0  \n",
              "1          809.0       277.0         3.5990            176500.0  \n",
              "2         1484.0       495.0         5.7934            270500.0  \n",
              "3           49.0        11.0         6.1359            330000.0  \n",
              "4          850.0       237.0         2.9375             81700.0  \n",
              "...          ...         ...            ...                 ...  \n",
              "2995      1258.0       607.0         1.1790            225000.0  \n",
              "2996      3496.0      1036.0         3.3906            237200.0  \n",
              "2997       693.0       220.0         2.2895             62000.0  \n",
              "2998        46.0        14.0         3.2708            162500.0  \n",
              "2999       753.0       260.0         8.5608            500001.0  \n",
              "\n",
              "[3000 rows x 9 columns]"
            ],
            "text/html": [
              "\n",
              "  <div id=\"df-14c964f1-57c0-4074-9f3c-4414d85f02b8\" class=\"colab-df-container\">\n",
              "    <div>\n",
              "<style scoped>\n",
              "    .dataframe tbody tr th:only-of-type {\n",
              "        vertical-align: middle;\n",
              "    }\n",
              "\n",
              "    .dataframe tbody tr th {\n",
              "        vertical-align: top;\n",
              "    }\n",
              "\n",
              "    .dataframe thead th {\n",
              "        text-align: right;\n",
              "    }\n",
              "</style>\n",
              "<table border=\"1\" class=\"dataframe\">\n",
              "  <thead>\n",
              "    <tr style=\"text-align: right;\">\n",
              "      <th></th>\n",
              "      <th>longitude</th>\n",
              "      <th>latitude</th>\n",
              "      <th>housing_median_age</th>\n",
              "      <th>total_rooms</th>\n",
              "      <th>total_bedrooms</th>\n",
              "      <th>population</th>\n",
              "      <th>households</th>\n",
              "      <th>median_income</th>\n",
              "      <th>median_house_value</th>\n",
              "    </tr>\n",
              "  </thead>\n",
              "  <tbody>\n",
              "    <tr>\n",
              "      <th>0</th>\n",
              "      <td>-122.05</td>\n",
              "      <td>37.37</td>\n",
              "      <td>27.0</td>\n",
              "      <td>3885.0</td>\n",
              "      <td>661.0</td>\n",
              "      <td>1537.0</td>\n",
              "      <td>606.0</td>\n",
              "      <td>6.6085</td>\n",
              "      <td>344700.0</td>\n",
              "    </tr>\n",
              "    <tr>\n",
              "      <th>1</th>\n",
              "      <td>-118.30</td>\n",
              "      <td>34.26</td>\n",
              "      <td>43.0</td>\n",
              "      <td>1510.0</td>\n",
              "      <td>310.0</td>\n",
              "      <td>809.0</td>\n",
              "      <td>277.0</td>\n",
              "      <td>3.5990</td>\n",
              "      <td>176500.0</td>\n",
              "    </tr>\n",
              "    <tr>\n",
              "      <th>2</th>\n",
              "      <td>-117.81</td>\n",
              "      <td>33.78</td>\n",
              "      <td>27.0</td>\n",
              "      <td>3589.0</td>\n",
              "      <td>507.0</td>\n",
              "      <td>1484.0</td>\n",
              "      <td>495.0</td>\n",
              "      <td>5.7934</td>\n",
              "      <td>270500.0</td>\n",
              "    </tr>\n",
              "    <tr>\n",
              "      <th>3</th>\n",
              "      <td>-118.36</td>\n",
              "      <td>33.82</td>\n",
              "      <td>28.0</td>\n",
              "      <td>67.0</td>\n",
              "      <td>15.0</td>\n",
              "      <td>49.0</td>\n",
              "      <td>11.0</td>\n",
              "      <td>6.1359</td>\n",
              "      <td>330000.0</td>\n",
              "    </tr>\n",
              "    <tr>\n",
              "      <th>4</th>\n",
              "      <td>-119.67</td>\n",
              "      <td>36.33</td>\n",
              "      <td>19.0</td>\n",
              "      <td>1241.0</td>\n",
              "      <td>244.0</td>\n",
              "      <td>850.0</td>\n",
              "      <td>237.0</td>\n",
              "      <td>2.9375</td>\n",
              "      <td>81700.0</td>\n",
              "    </tr>\n",
              "    <tr>\n",
              "      <th>...</th>\n",
              "      <td>...</td>\n",
              "      <td>...</td>\n",
              "      <td>...</td>\n",
              "      <td>...</td>\n",
              "      <td>...</td>\n",
              "      <td>...</td>\n",
              "      <td>...</td>\n",
              "      <td>...</td>\n",
              "      <td>...</td>\n",
              "    </tr>\n",
              "    <tr>\n",
              "      <th>2995</th>\n",
              "      <td>-119.86</td>\n",
              "      <td>34.42</td>\n",
              "      <td>23.0</td>\n",
              "      <td>1450.0</td>\n",
              "      <td>642.0</td>\n",
              "      <td>1258.0</td>\n",
              "      <td>607.0</td>\n",
              "      <td>1.1790</td>\n",
              "      <td>225000.0</td>\n",
              "    </tr>\n",
              "    <tr>\n",
              "      <th>2996</th>\n",
              "      <td>-118.14</td>\n",
              "      <td>34.06</td>\n",
              "      <td>27.0</td>\n",
              "      <td>5257.0</td>\n",
              "      <td>1082.0</td>\n",
              "      <td>3496.0</td>\n",
              "      <td>1036.0</td>\n",
              "      <td>3.3906</td>\n",
              "      <td>237200.0</td>\n",
              "    </tr>\n",
              "    <tr>\n",
              "      <th>2997</th>\n",
              "      <td>-119.70</td>\n",
              "      <td>36.30</td>\n",
              "      <td>10.0</td>\n",
              "      <td>956.0</td>\n",
              "      <td>201.0</td>\n",
              "      <td>693.0</td>\n",
              "      <td>220.0</td>\n",
              "      <td>2.2895</td>\n",
              "      <td>62000.0</td>\n",
              "    </tr>\n",
              "    <tr>\n",
              "      <th>2998</th>\n",
              "      <td>-117.12</td>\n",
              "      <td>34.10</td>\n",
              "      <td>40.0</td>\n",
              "      <td>96.0</td>\n",
              "      <td>14.0</td>\n",
              "      <td>46.0</td>\n",
              "      <td>14.0</td>\n",
              "      <td>3.2708</td>\n",
              "      <td>162500.0</td>\n",
              "    </tr>\n",
              "    <tr>\n",
              "      <th>2999</th>\n",
              "      <td>-119.63</td>\n",
              "      <td>34.42</td>\n",
              "      <td>42.0</td>\n",
              "      <td>1765.0</td>\n",
              "      <td>263.0</td>\n",
              "      <td>753.0</td>\n",
              "      <td>260.0</td>\n",
              "      <td>8.5608</td>\n",
              "      <td>500001.0</td>\n",
              "    </tr>\n",
              "  </tbody>\n",
              "</table>\n",
              "<p>3000 rows × 9 columns</p>\n",
              "</div>\n",
              "    <div class=\"colab-df-buttons\">\n",
              "\n",
              "  <div class=\"colab-df-container\">\n",
              "    <button class=\"colab-df-convert\" onclick=\"convertToInteractive('df-14c964f1-57c0-4074-9f3c-4414d85f02b8')\"\n",
              "            title=\"Convert this dataframe to an interactive table.\"\n",
              "            style=\"display:none;\">\n",
              "\n",
              "  <svg xmlns=\"http://www.w3.org/2000/svg\" height=\"24px\" viewBox=\"0 -960 960 960\">\n",
              "    <path d=\"M120-120v-720h720v720H120Zm60-500h600v-160H180v160Zm220 220h160v-160H400v160Zm0 220h160v-160H400v160ZM180-400h160v-160H180v160Zm440 0h160v-160H620v160ZM180-180h160v-160H180v160Zm440 0h160v-160H620v160Z\"/>\n",
              "  </svg>\n",
              "    </button>\n",
              "\n",
              "  <style>\n",
              "    .colab-df-container {\n",
              "      display:flex;\n",
              "      gap: 12px;\n",
              "    }\n",
              "\n",
              "    .colab-df-convert {\n",
              "      background-color: #E8F0FE;\n",
              "      border: none;\n",
              "      border-radius: 50%;\n",
              "      cursor: pointer;\n",
              "      display: none;\n",
              "      fill: #1967D2;\n",
              "      height: 32px;\n",
              "      padding: 0 0 0 0;\n",
              "      width: 32px;\n",
              "    }\n",
              "\n",
              "    .colab-df-convert:hover {\n",
              "      background-color: #E2EBFA;\n",
              "      box-shadow: 0px 1px 2px rgba(60, 64, 67, 0.3), 0px 1px 3px 1px rgba(60, 64, 67, 0.15);\n",
              "      fill: #174EA6;\n",
              "    }\n",
              "\n",
              "    .colab-df-buttons div {\n",
              "      margin-bottom: 4px;\n",
              "    }\n",
              "\n",
              "    [theme=dark] .colab-df-convert {\n",
              "      background-color: #3B4455;\n",
              "      fill: #D2E3FC;\n",
              "    }\n",
              "\n",
              "    [theme=dark] .colab-df-convert:hover {\n",
              "      background-color: #434B5C;\n",
              "      box-shadow: 0px 1px 3px 1px rgba(0, 0, 0, 0.15);\n",
              "      filter: drop-shadow(0px 1px 2px rgba(0, 0, 0, 0.3));\n",
              "      fill: #FFFFFF;\n",
              "    }\n",
              "  </style>\n",
              "\n",
              "    <script>\n",
              "      const buttonEl =\n",
              "        document.querySelector('#df-14c964f1-57c0-4074-9f3c-4414d85f02b8 button.colab-df-convert');\n",
              "      buttonEl.style.display =\n",
              "        google.colab.kernel.accessAllowed ? 'block' : 'none';\n",
              "\n",
              "      async function convertToInteractive(key) {\n",
              "        const element = document.querySelector('#df-14c964f1-57c0-4074-9f3c-4414d85f02b8');\n",
              "        const dataTable =\n",
              "          await google.colab.kernel.invokeFunction('convertToInteractive',\n",
              "                                                    [key], {});\n",
              "        if (!dataTable) return;\n",
              "\n",
              "        const docLinkHtml = 'Like what you see? Visit the ' +\n",
              "          '<a target=\"_blank\" href=https://colab.research.google.com/notebooks/data_table.ipynb>data table notebook</a>'\n",
              "          + ' to learn more about interactive tables.';\n",
              "        element.innerHTML = '';\n",
              "        dataTable['output_type'] = 'display_data';\n",
              "        await google.colab.output.renderOutput(dataTable, element);\n",
              "        const docLink = document.createElement('div');\n",
              "        docLink.innerHTML = docLinkHtml;\n",
              "        element.appendChild(docLink);\n",
              "      }\n",
              "    </script>\n",
              "  </div>\n",
              "\n",
              "\n",
              "<div id=\"df-e1d618e8-553d-42dd-8925-f404c4a32b9f\">\n",
              "  <button class=\"colab-df-quickchart\" onclick=\"quickchart('df-e1d618e8-553d-42dd-8925-f404c4a32b9f')\"\n",
              "            title=\"Suggest charts\"\n",
              "            style=\"display:none;\">\n",
              "\n",
              "<svg xmlns=\"http://www.w3.org/2000/svg\" height=\"24px\"viewBox=\"0 0 24 24\"\n",
              "     width=\"24px\">\n",
              "    <g>\n",
              "        <path d=\"M19 3H5c-1.1 0-2 .9-2 2v14c0 1.1.9 2 2 2h14c1.1 0 2-.9 2-2V5c0-1.1-.9-2-2-2zM9 17H7v-7h2v7zm4 0h-2V7h2v10zm4 0h-2v-4h2v4z\"/>\n",
              "    </g>\n",
              "</svg>\n",
              "  </button>\n",
              "\n",
              "<style>\n",
              "  .colab-df-quickchart {\n",
              "      --bg-color: #E8F0FE;\n",
              "      --fill-color: #1967D2;\n",
              "      --hover-bg-color: #E2EBFA;\n",
              "      --hover-fill-color: #174EA6;\n",
              "      --disabled-fill-color: #AAA;\n",
              "      --disabled-bg-color: #DDD;\n",
              "  }\n",
              "\n",
              "  [theme=dark] .colab-df-quickchart {\n",
              "      --bg-color: #3B4455;\n",
              "      --fill-color: #D2E3FC;\n",
              "      --hover-bg-color: #434B5C;\n",
              "      --hover-fill-color: #FFFFFF;\n",
              "      --disabled-bg-color: #3B4455;\n",
              "      --disabled-fill-color: #666;\n",
              "  }\n",
              "\n",
              "  .colab-df-quickchart {\n",
              "    background-color: var(--bg-color);\n",
              "    border: none;\n",
              "    border-radius: 50%;\n",
              "    cursor: pointer;\n",
              "    display: none;\n",
              "    fill: var(--fill-color);\n",
              "    height: 32px;\n",
              "    padding: 0;\n",
              "    width: 32px;\n",
              "  }\n",
              "\n",
              "  .colab-df-quickchart:hover {\n",
              "    background-color: var(--hover-bg-color);\n",
              "    box-shadow: 0 1px 2px rgba(60, 64, 67, 0.3), 0 1px 3px 1px rgba(60, 64, 67, 0.15);\n",
              "    fill: var(--button-hover-fill-color);\n",
              "  }\n",
              "\n",
              "  .colab-df-quickchart-complete:disabled,\n",
              "  .colab-df-quickchart-complete:disabled:hover {\n",
              "    background-color: var(--disabled-bg-color);\n",
              "    fill: var(--disabled-fill-color);\n",
              "    box-shadow: none;\n",
              "  }\n",
              "\n",
              "  .colab-df-spinner {\n",
              "    border: 2px solid var(--fill-color);\n",
              "    border-color: transparent;\n",
              "    border-bottom-color: var(--fill-color);\n",
              "    animation:\n",
              "      spin 1s steps(1) infinite;\n",
              "  }\n",
              "\n",
              "  @keyframes spin {\n",
              "    0% {\n",
              "      border-color: transparent;\n",
              "      border-bottom-color: var(--fill-color);\n",
              "      border-left-color: var(--fill-color);\n",
              "    }\n",
              "    20% {\n",
              "      border-color: transparent;\n",
              "      border-left-color: var(--fill-color);\n",
              "      border-top-color: var(--fill-color);\n",
              "    }\n",
              "    30% {\n",
              "      border-color: transparent;\n",
              "      border-left-color: var(--fill-color);\n",
              "      border-top-color: var(--fill-color);\n",
              "      border-right-color: var(--fill-color);\n",
              "    }\n",
              "    40% {\n",
              "      border-color: transparent;\n",
              "      border-right-color: var(--fill-color);\n",
              "      border-top-color: var(--fill-color);\n",
              "    }\n",
              "    60% {\n",
              "      border-color: transparent;\n",
              "      border-right-color: var(--fill-color);\n",
              "    }\n",
              "    80% {\n",
              "      border-color: transparent;\n",
              "      border-right-color: var(--fill-color);\n",
              "      border-bottom-color: var(--fill-color);\n",
              "    }\n",
              "    90% {\n",
              "      border-color: transparent;\n",
              "      border-bottom-color: var(--fill-color);\n",
              "    }\n",
              "  }\n",
              "</style>\n",
              "\n",
              "  <script>\n",
              "    async function quickchart(key) {\n",
              "      const quickchartButtonEl =\n",
              "        document.querySelector('#' + key + ' button');\n",
              "      quickchartButtonEl.disabled = true;  // To prevent multiple clicks.\n",
              "      quickchartButtonEl.classList.add('colab-df-spinner');\n",
              "      try {\n",
              "        const charts = await google.colab.kernel.invokeFunction(\n",
              "            'suggestCharts', [key], {});\n",
              "      } catch (error) {\n",
              "        console.error('Error during call to suggestCharts:', error);\n",
              "      }\n",
              "      quickchartButtonEl.classList.remove('colab-df-spinner');\n",
              "      quickchartButtonEl.classList.add('colab-df-quickchart-complete');\n",
              "    }\n",
              "    (() => {\n",
              "      let quickchartButtonEl =\n",
              "        document.querySelector('#df-e1d618e8-553d-42dd-8925-f404c4a32b9f button');\n",
              "      quickchartButtonEl.style.display =\n",
              "        google.colab.kernel.accessAllowed ? 'block' : 'none';\n",
              "    })();\n",
              "  </script>\n",
              "</div>\n",
              "\n",
              "  <div id=\"id_55cb7fdb-b4f8-4508-bccb-a787a54d9fac\">\n",
              "    <style>\n",
              "      .colab-df-generate {\n",
              "        background-color: #E8F0FE;\n",
              "        border: none;\n",
              "        border-radius: 50%;\n",
              "        cursor: pointer;\n",
              "        display: none;\n",
              "        fill: #1967D2;\n",
              "        height: 32px;\n",
              "        padding: 0 0 0 0;\n",
              "        width: 32px;\n",
              "      }\n",
              "\n",
              "      .colab-df-generate:hover {\n",
              "        background-color: #E2EBFA;\n",
              "        box-shadow: 0px 1px 2px rgba(60, 64, 67, 0.3), 0px 1px 3px 1px rgba(60, 64, 67, 0.15);\n",
              "        fill: #174EA6;\n",
              "      }\n",
              "\n",
              "      [theme=dark] .colab-df-generate {\n",
              "        background-color: #3B4455;\n",
              "        fill: #D2E3FC;\n",
              "      }\n",
              "\n",
              "      [theme=dark] .colab-df-generate:hover {\n",
              "        background-color: #434B5C;\n",
              "        box-shadow: 0px 1px 3px 1px rgba(0, 0, 0, 0.15);\n",
              "        filter: drop-shadow(0px 1px 2px rgba(0, 0, 0, 0.3));\n",
              "        fill: #FFFFFF;\n",
              "      }\n",
              "    </style>\n",
              "    <button class=\"colab-df-generate\" onclick=\"generateWithVariable('df')\"\n",
              "            title=\"Generate code using this dataframe.\"\n",
              "            style=\"display:none;\">\n",
              "\n",
              "  <svg xmlns=\"http://www.w3.org/2000/svg\" height=\"24px\"viewBox=\"0 0 24 24\"\n",
              "       width=\"24px\">\n",
              "    <path d=\"M7,19H8.4L18.45,9,17,7.55,7,17.6ZM5,21V16.75L18.45,3.32a2,2,0,0,1,2.83,0l1.4,1.43a1.91,1.91,0,0,1,.58,1.4,1.91,1.91,0,0,1-.58,1.4L9.25,21ZM18.45,9,17,7.55Zm-12,3A5.31,5.31,0,0,0,4.9,8.1,5.31,5.31,0,0,0,1,6.5,5.31,5.31,0,0,0,4.9,4.9,5.31,5.31,0,0,0,6.5,1,5.31,5.31,0,0,0,8.1,4.9,5.31,5.31,0,0,0,12,6.5,5.46,5.46,0,0,0,6.5,12Z\"/>\n",
              "  </svg>\n",
              "    </button>\n",
              "    <script>\n",
              "      (() => {\n",
              "      const buttonEl =\n",
              "        document.querySelector('#id_55cb7fdb-b4f8-4508-bccb-a787a54d9fac button.colab-df-generate');\n",
              "      buttonEl.style.display =\n",
              "        google.colab.kernel.accessAllowed ? 'block' : 'none';\n",
              "\n",
              "      buttonEl.onclick = () => {\n",
              "        google.colab.notebook.generateWithVariable('df');\n",
              "      }\n",
              "      })();\n",
              "    </script>\n",
              "  </div>\n",
              "\n",
              "    </div>\n",
              "  </div>\n"
            ],
            "application/vnd.google.colaboratory.intrinsic+json": {
              "type": "dataframe",
              "variable_name": "df",
              "summary": "{\n  \"name\": \"df\",\n  \"rows\": 3000,\n  \"fields\": [\n    {\n      \"column\": \"longitude\",\n      \"properties\": {\n        \"dtype\": \"number\",\n        \"std\": 1.9949362939550161,\n        \"min\": -124.18,\n        \"max\": -114.49,\n        \"num_unique_values\": 607,\n        \"samples\": [\n          -121.15,\n          -121.46,\n          -121.02\n        ],\n        \"semantic_type\": \"\",\n        \"description\": \"\"\n      }\n    },\n    {\n      \"column\": \"latitude\",\n      \"properties\": {\n        \"dtype\": \"number\",\n        \"std\": 2.1296695233438325,\n        \"min\": 32.56,\n        \"max\": 41.92,\n        \"num_unique_values\": 587,\n        \"samples\": [\n          40.17,\n          33.69,\n          39.61\n        ],\n        \"semantic_type\": \"\",\n        \"description\": \"\"\n      }\n    },\n    {\n      \"column\": \"housing_median_age\",\n      \"properties\": {\n        \"dtype\": \"number\",\n        \"std\": 12.555395554955755,\n        \"min\": 1.0,\n        \"max\": 52.0,\n        \"num_unique_values\": 52,\n        \"samples\": [\n          14.0,\n          49.0,\n          7.0\n        ],\n        \"semantic_type\": \"\",\n        \"description\": \"\"\n      }\n    },\n    {\n      \"column\": \"total_rooms\",\n      \"properties\": {\n        \"dtype\": \"number\",\n        \"std\": 2155.59333162558,\n        \"min\": 6.0,\n        \"max\": 30450.0,\n        \"num_unique_values\": 2215,\n        \"samples\": [\n          1961.0,\n          1807.0,\n          680.0\n        ],\n        \"semantic_type\": \"\",\n        \"description\": \"\"\n      }\n    },\n    {\n      \"column\": \"total_bedrooms\",\n      \"properties\": {\n        \"dtype\": \"number\",\n        \"std\": 415.6543681363232,\n        \"min\": 2.0,\n        \"max\": 5419.0,\n        \"num_unique_values\": 1055,\n        \"samples\": [\n          532.0,\n          764.0,\n          2162.0\n        ],\n        \"semantic_type\": \"\",\n        \"description\": \"\"\n      }\n    },\n    {\n      \"column\": \"population\",\n      \"properties\": {\n        \"dtype\": \"number\",\n        \"std\": 1030.5430124122422,\n        \"min\": 5.0,\n        \"max\": 11935.0,\n        \"num_unique_values\": 1802,\n        \"samples\": [\n          947.0,\n          1140.0,\n          2019.0\n        ],\n        \"semantic_type\": \"\",\n        \"description\": \"\"\n      }\n    },\n    {\n      \"column\": \"households\",\n      \"properties\": {\n        \"dtype\": \"number\",\n        \"std\": 365.42270980552604,\n        \"min\": 2.0,\n        \"max\": 4930.0,\n        \"num_unique_values\": 1026,\n        \"samples\": [\n          646.0,\n          629.0,\n          504.0\n        ],\n        \"semantic_type\": \"\",\n        \"description\": \"\"\n      }\n    },\n    {\n      \"column\": \"median_income\",\n      \"properties\": {\n        \"dtype\": \"number\",\n        \"std\": 1.854511729691481,\n        \"min\": 0.4999,\n        \"max\": 15.0001,\n        \"num_unique_values\": 2578,\n        \"samples\": [\n          1.725,\n          0.7403,\n          2.6964\n        ],\n        \"semantic_type\": \"\",\n        \"description\": \"\"\n      }\n    },\n    {\n      \"column\": \"median_house_value\",\n      \"properties\": {\n        \"dtype\": \"number\",\n        \"std\": 113119.68746964433,\n        \"min\": 22500.0,\n        \"max\": 500001.0,\n        \"num_unique_values\": 1784,\n        \"samples\": [\n          71900.0,\n          63000.0,\n          115800.0\n        ],\n        \"semantic_type\": \"\",\n        \"description\": \"\"\n      }\n    }\n  ]\n}"
            }
          },
          "metadata": {},
          "execution_count": 73
        }
      ],
      "source": [
        "import pandas as pd\n",
        "df = pd.read_csv('sample_data/california_housing_test.csv')\n",
        "\n",
        "# file = open('sample_data/california_housing_test.csv')\n",
        "# housing_data = pd.read_csv(file)\n",
        "\n",
        "df"
      ]
    },
    {
      "cell_type": "code",
      "source": [
        "\n",
        "# get sume of total_bedrooms\n",
        "sum_total_bedrooms = df['total_bedrooms'].sum()\n",
        "\n",
        "print(sum_total_bedrooms)"
      ],
      "metadata": {
        "colab": {
          "base_uri": "https://localhost:8080/"
        },
        "id": "t5Xf0esb5LkQ",
        "outputId": "44c563ec-0d5b-4a84-ba90-00f7a54b8290"
      },
      "execution_count": null,
      "outputs": [
        {
          "output_type": "stream",
          "name": "stdout",
          "text": [
            "1589852.0\n"
          ]
        }
      ]
    },
    {
      "cell_type": "code",
      "source": [
        "df.info()"
      ],
      "metadata": {
        "colab": {
          "base_uri": "https://localhost:8080/"
        },
        "id": "le_rh6CqSUqd",
        "outputId": "1faa1c06-738d-44a8-8c4c-f760daa7b22a"
      },
      "execution_count": null,
      "outputs": [
        {
          "output_type": "stream",
          "name": "stdout",
          "text": [
            "<class 'pandas.core.frame.DataFrame'>\n",
            "RangeIndex: 3000 entries, 0 to 2999\n",
            "Data columns (total 9 columns):\n",
            " #   Column              Non-Null Count  Dtype  \n",
            "---  ------              --------------  -----  \n",
            " 0   longitude           3000 non-null   float64\n",
            " 1   latitude            3000 non-null   float64\n",
            " 2   housing_median_age  3000 non-null   float64\n",
            " 3   total_rooms         3000 non-null   float64\n",
            " 4   total_bedrooms      3000 non-null   float64\n",
            " 5   population          3000 non-null   float64\n",
            " 6   households          3000 non-null   float64\n",
            " 7   median_income       3000 non-null   float64\n",
            " 8   median_house_value  3000 non-null   float64\n",
            "dtypes: float64(9)\n",
            "memory usage: 211.1 KB\n"
          ]
        }
      ]
    },
    {
      "cell_type": "markdown",
      "source": [
        " 1. list. we can inspect our desired library from here in the list\n",
        " 2. then install\n",
        " 3. then import"
      ],
      "metadata": {
        "id": "oKMhl2c6M4uw"
      }
    },
    {
      "cell_type": "code",
      "source": [
        "pip list\n"
      ],
      "metadata": {
        "id": "LNroJN45L3CA",
        "collapsed": true
      },
      "execution_count": null,
      "outputs": []
    },
    {
      "cell_type": "code",
      "source": [
        "pip install pyjokes\n"
      ],
      "metadata": {
        "colab": {
          "base_uri": "https://localhost:8080/"
        },
        "id": "KOiRQ9yxL04E",
        "outputId": "e854981b-9de2-40f1-e422-9e71b8519f29"
      },
      "execution_count": null,
      "outputs": [
        {
          "output_type": "stream",
          "name": "stdout",
          "text": [
            "Requirement already satisfied: pyjokes in /usr/local/lib/python3.10/dist-packages (0.8.3)\n"
          ]
        }
      ]
    },
    {
      "cell_type": "code",
      "source": [
        "import pyjokes\n",
        "pyjokes.get_joke()"
      ],
      "metadata": {
        "id": "ZHFHfOtYMAB1",
        "colab": {
          "base_uri": "https://localhost:8080/",
          "height": 35
        },
        "outputId": "ce867aec-9809-41c3-9a0a-9e5b50b2bd96"
      },
      "execution_count": null,
      "outputs": [
        {
          "output_type": "execute_result",
          "data": {
            "text/plain": [
              "'A user friendly computer first requires a friendly user.'"
            ],
            "application/vnd.google.colaboratory.intrinsic+json": {
              "type": "string"
            }
          },
          "metadata": {},
          "execution_count": 30
        }
      ]
    },
    {
      "cell_type": "markdown",
      "source": [
        "## here we have third party libraries:\n",
        "\n",
        "\n",
        "[PYPI](https://pypi.org/)\n",
        "\n",
        "\n",
        "## for example panda and matplotlib:\n",
        "\n",
        "[PANDA. Getting started](https://pandas.pydata.org/pandas-docs/stable/getting_started/intro_tutorials/02_read_write.html#min-tut-02-read-write)\n",
        "\n",
        "\n",
        "[PANDA. API reference](https://pandas.pydata.org/pandas-docs/stable/reference/api/pandas.DataFrame.sort_values.html#pandas.DataFrame.sort_values)\n",
        "\n",
        "\n",
        "[MATPLOT](https://matplotlib.org/stable/plot_types/index.html)"
      ],
      "metadata": {
        "id": "A4MLtqEEz-7D"
      }
    },
    {
      "cell_type": "markdown",
      "source": [
        "# **CLASSESSS**"
      ],
      "metadata": {
        "id": "_1LfdW7_pNs5"
      }
    },
    {
      "cell_type": "code",
      "execution_count": null,
      "metadata": {
        "id": "KEq7w8uCe07h"
      },
      "outputs": [],
      "source": [
        "class BaseSalary:\n",
        "  def __init__(self, base_salary, bonus_rate=0.1, symbol=\"$\"):\n",
        "    self.base_salary = base_salary\n",
        "    self.bonus_rate = bonus_rate\n",
        "    self.symbol = symbol\n",
        "    self.total_salary = base_salary * (1 + bonus_rate)\n",
        "    self.bonus = self.total_salary - self.base_salary\n",
        "\n",
        "  def __repr__(self):\n",
        "    return f'{self.symbol}{self.base_salary:,.0f}'\n",
        "\n",
        "  def show_salary(self):\n",
        "    return f'{self.symbol}{self.total_salary:,.2f}'\n",
        "\n",
        "  def show_bonus(self):\n",
        "    return f'{self.symbol}{self.bonus:,.0f}'"
      ]
    },
    {
      "cell_type": "code",
      "execution_count": null,
      "metadata": {
        "id": "3W9eRPt5e07i",
        "outputId": "8a5cdadb-309e-4fed-a8d9-9f551ec8f49b",
        "colab": {
          "base_uri": "https://localhost:8080/",
          "height": 36
        }
      },
      "outputs": [
        {
          "output_type": "execute_result",
          "data": {
            "text/plain": [
              "'$160,000.00'"
            ],
            "application/vnd.google.colaboratory.intrinsic+json": {
              "type": "string"
            }
          },
          "metadata": {},
          "execution_count": 82
        }
      ],
      "source": [
        "salary = BaseSalary(100000, 0.6)\n",
        "\n",
        "salary.show_salary()"
      ]
    },
    {
      "cell_type": "code",
      "execution_count": null,
      "metadata": {
        "id": "HjgpHnvie07i",
        "outputId": "788ad6ed-b42a-4fe8-b40d-6ce6e90ec6d3",
        "colab": {
          "base_uri": "https://localhost:8080/",
          "height": 36
        }
      },
      "outputs": [
        {
          "output_type": "execute_result",
          "data": {
            "text/plain": [
              "'$160,000'"
            ],
            "application/vnd.google.colaboratory.intrinsic+json": {
              "type": "string"
            }
          },
          "metadata": {},
          "execution_count": 50
        }
      ],
      "source": [
        "salary.show_salary()"
      ]
    },
    {
      "cell_type": "markdown",
      "source": [
        "\n",
        "Ctrl + shift + p : reload window\n",
        "\n",
        "Ctrl + ~ : new terminal\n",
        "\n",
        "Ctrl + shift + L : changing all the similar frases simultaneously both here and vs code\n",
        "\n",
        "Ctrl + / : turning several lines of code into comments simultaneously"
      ],
      "metadata": {
        "id": "gC3ga2_nU_BO"
      }
    }
  ],
  "metadata": {
    "colab": {
      "provenance": [],
      "include_colab_link": true
    },
    "kernelspec": {
      "display_name": "Python 3",
      "name": "python3"
    }
  },
  "nbformat": 4,
  "nbformat_minor": 0
}