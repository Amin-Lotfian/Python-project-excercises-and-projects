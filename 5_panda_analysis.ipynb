{
  "nbformat": 4,
  "nbformat_minor": 0,
  "metadata": {
    "colab": {
      "provenance": [],
      "authorship_tag": "ABX9TyP8qxjiR3Kd+vc/ffhohJ1p",
      "include_colab_link": true
    },
    "kernelspec": {
      "name": "python3",
      "display_name": "Python 3"
    },
    "language_info": {
      "name": "python"
    }
  },
  "cells": [
    {
      "cell_type": "markdown",
      "metadata": {
        "id": "view-in-github",
        "colab_type": "text"
      },
      "source": [
        "<a href=\"https://colab.research.google.com/github/Amin-Lotfian/Python-project-excercises-and-projects/blob/main/5_panda_analysis.ipynb\" target=\"_parent\"><img src=\"https://colab.research.google.com/assets/colab-badge.svg\" alt=\"Open In Colab\"/></a>"
      ]
    },
    {
      "cell_type": "markdown",
      "source": [
        "df.iloc[row numerc index,  column numeric index]\n",
        "\n",
        "df.loc[row numeric index or **row name**,  column numeric index or **column name**]"
      ],
      "metadata": {
        "id": "ePCNGRmnwiNd"
      }
    },
    {
      "cell_type": "code",
      "execution_count": null,
      "metadata": {
        "id": "jeocv85w1NHB",
        "collapsed": true
      },
      "outputs": [],
      "source": [
        "# @title\n",
        "# Install datasets Library (if not already installed)\n",
        "!pip install datasets\n",
        "\n",
        "# Importing Libraries\n",
        "import pandas as pd\n",
        "from datasets import load_dataset\n",
        "\n",
        "# Loading Data\n",
        "dataset = load_dataset('lukebarousse/data_jobs')\n",
        "df = dataset['train'].to_pandas()\n",
        "\n",
        "# Data Cleanup\n",
        "df['job_posted_date'] = pd.to_datetime(df['job_posted_date'])"
      ]
    },
    {
      "cell_type": "code",
      "source": [
        "df = dataset['train'].to_pandas()\n",
        "df['job_posted_date'] = pd.to_datetime(df['job_posted_date'])"
      ],
      "metadata": {
        "id": "TIpn70Dl2gQE"
      },
      "execution_count": null,
      "outputs": []
    },
    {
      "cell_type": "code",
      "source": [
        "df3= df[['job_title','salary_year_avg']].iloc[90:12000][(df.job_title_short == 'Data Analyst') & (df.salary_year_avg>100000) & (df.salary_year_avg.notna())].count()\n",
        "df3"
      ],
      "metadata": {
        "id": "j2n-blmA2rxe"
      },
      "execution_count": null,
      "outputs": []
    },
    {
      "cell_type": "code",
      "source": [
        "df"
      ],
      "metadata": {
        "collapsed": true,
        "id": "dMSbn3VItq9o"
      },
      "execution_count": null,
      "outputs": []
    },
    {
      "cell_type": "code",
      "execution_count": null,
      "metadata": {
        "id": "XEnyNsoEdNV9"
      },
      "outputs": [],
      "source": [
        "df.describe()"
      ]
    },
    {
      "cell_type": "code",
      "execution_count": null,
      "metadata": {
        "id": "0ujLnlSd1NHD"
      },
      "outputs": [],
      "source": [
        "df['salary_year_avg'].describe()"
      ]
    },
    {
      "cell_type": "markdown",
      "metadata": {
        "id": "M0Tnqe1X1NHE"
      },
      "source": [
        "### Common Data Analysis Methods\n",
        "\n",
        "#### Notes\n",
        "\n",
        "But there are other methods like:\n",
        "* `df.sum()` - Sum of values\n",
        "* `df.cumsum()` - Cummulative sum of values\n",
        "* `df.min()`/`df.max()` - Minimum/maximum values\n",
        "* `df.idxmin()`/`df.idxmax()` - Indexes of minimum/Maximum value\n",
        "* `df.mean()` - Mean of values\n",
        "* `df.median()` - Median of values\n",
        "* `df.mode()` - Mode of the values\n",
        "* `series.value_counts()` - Counts of unique values for a Series (aka a column)\n",
        "    * Typically used for counting *unique occurrences* within a single column.\n",
        "    * It's not applicable to an entire DataFrame without specifying a column.\n",
        "* Depending on the method, you can apply it directly to a DataFrame or a Series.\n",
        "\n",
        "#### Examples\n",
        "\n",
        "Let's get the count of the values in each column within the entire DataFrame."
      ]
    },
    {
      "cell_type": "code",
      "execution_count": null,
      "metadata": {
        "id": "KuxbRJzs1NHE"
      },
      "outputs": [],
      "source": [
        "df.count()"
      ]
    },
    {
      "cell_type": "code",
      "execution_count": null,
      "metadata": {
        "id": "ZH0NHiyu1NHE"
      },
      "outputs": [],
      "source": [
        "df['salary_year_avg'].mode()"
      ]
    },
    {
      "cell_type": "code",
      "execution_count": null,
      "metadata": {
        "id": "6ZomtEsV1NHF"
      },
      "outputs": [],
      "source": [
        "df['salary_year_avg'].idxmax()"
      ]
    },
    {
      "cell_type": "code",
      "execution_count": null,
      "metadata": {
        "id": "O00O6C7R1NHF"
      },
      "outputs": [],
      "source": [
        "df.loc[357614, 'salary_year_avg'] = 100000"
      ]
    },
    {
      "cell_type": "code",
      "source": [
        "df.iloc[357614]"
      ],
      "metadata": {
        "id": "lLrlHGhZvjqj"
      },
      "execution_count": null,
      "outputs": []
    },
    {
      "cell_type": "code",
      "execution_count": null,
      "metadata": {
        "id": "j0Hy7YUH1NHF"
      },
      "outputs": [],
      "source": [
        "df['job_title_short'].value_counts()"
      ]
    },
    {
      "cell_type": "markdown",
      "metadata": {
        "id": "z58jfWHdagCZ"
      },
      "source": [
        "### Groupby()\n",
        "\n",
        "#### Notes\n",
        "\n",
        "* Use `groupby` to group your DataFrame by the unique values in a specific column.\n",
        "* Lets you perform aggregation (e.g. mean, sum) on the grouped data.\n",
        "* Aggregations you can perform:\n",
        "  * `mean()`: Computes the mean of the groups\n",
        "  * `sum()`: Calculates the sum of the group values\n",
        "  * `median()`: Finds the median of each group\n",
        "  * `min()` and `max()`: Determine the minimum and maximum values within each group\n",
        "  * Counts:\n",
        "    * `count()`: Counts the number of non-NA/null entries in each group\n",
        "    * `size()`: Returns the size of each group (including NA/null values)\n",
        "  * `std()` and `var()`: Calculate the standard deviation and variance of groups\n",
        "  * `first()` and `last()`: Get the first and last row of each group\n",
        "  * `unique()`: Counts the number of unique non-NA/null values in each group\n",
        "\n",
        "#### Examples\n",
        "\n",
        "If we want to find the average yearly salary by `job_title_short`."
      ]
    },
    {
      "cell_type": "code",
      "execution_count": null,
      "metadata": {
        "id": "0BgX_FzcaQRj"
      },
      "outputs": [],
      "source": [
        "df.groupby('job_title_short')['salary_year_avg'].mean()"
      ]
    },
    {
      "cell_type": "code",
      "execution_count": null,
      "metadata": {
        "id": "Khu35LR91NHG"
      },
      "outputs": [],
      "source": [
        "df.groupby('job_title_short')['salary_year_avg'].median()"
      ]
    },
    {
      "cell_type": "code",
      "execution_count": null,
      "metadata": {
        "id": "IIj-i17K1NHG"
      },
      "outputs": [],
      "source": [
        "df.groupby('job_title_short')['salary_year_avg'].agg(['min', 'max'])"
      ]
    }
  ]
}