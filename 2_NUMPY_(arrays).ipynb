{
  "nbformat": 4,
  "nbformat_minor": 0,
  "metadata": {
    "colab": {
      "provenance": [],
      "authorship_tag": "ABX9TyM0FWgYx/Sp3wnhG8NPUUhd",
      "include_colab_link": true
    },
    "kernelspec": {
      "name": "python3",
      "display_name": "Python 3"
    },
    "language_info": {
      "name": "python"
    }
  },
  "cells": [
    {
      "cell_type": "markdown",
      "metadata": {
        "id": "view-in-github",
        "colab_type": "text"
      },
      "source": [
        "<a href=\"https://colab.research.google.com/github/Amin-Lotfian/Python-project-excercises-and-projects/blob/main/2_NUMPY_(arrays).ipynb\" target=\"_parent\"><img src=\"https://colab.research.google.com/assets/colab-badge.svg\" alt=\"Open In Colab\"/></a>"
      ]
    },
    {
      "cell_type": "markdown",
      "source": [
        "# ***NUMPY (arrays)***"
      ],
      "metadata": {
        "id": "H_QSePuTokV3"
      }
    },
    {
      "cell_type": "markdown",
      "source": [
        "Mrrrr totally np.array() receives a list:\n",
        "\n",
        "np.array(list)"
      ],
      "metadata": {
        "id": "l2vcCvKNLaOi"
      }
    },
    {
      "cell_type": "code",
      "source": [
        "import numpy as np\n",
        "# Job titles\n",
        "job_titles = np.array(['Data Analyst', 'Data Scientist', 'Data Engineer', 'Machine Learning Engineer', 'AI engineer'])\n",
        "# Base salaries\n",
        "base_salaries = np.array([60000, 80000, 75000, 90000, np.nan])\n",
        "# Bonus rates\n",
        "bonus_rates = np.array([.05, .1, .08, .12, np.nan])\n",
        "total_salaries = base_salaries * (1 + bonus_rates)\n",
        "total_salaries"
      ],
      "metadata": {
        "colab": {
          "base_uri": "https://localhost:8080/"
        },
        "id": "pA-0raveMTFf",
        "outputId": "0ef3fd11-23d9-4c63-95f4-3f925969b399"
      },
      "execution_count": null,
      "outputs": [
        {
          "output_type": "execute_result",
          "data": {
            "text/plain": [
              "array([ 63000.,  88000.,  81000., 100800.,     nan])"
            ]
          },
          "metadata": {},
          "execution_count": 2
        }
      ]
    },
    {
      "cell_type": "code",
      "source": [
        "np.nanmean (total_salaries)\n",
        "83200.0"
      ],
      "metadata": {
        "colab": {
          "base_uri": "https://localhost:8080/"
        },
        "id": "teVHXgOGM9m2",
        "outputId": "e22343fc-86a1-42d0-f39b-25f2df913a1e"
      },
      "execution_count": null,
      "outputs": [
        {
          "output_type": "execute_result",
          "data": {
            "text/plain": [
              "83200.0"
            ]
          },
          "metadata": {},
          "execution_count": 3
        }
      ]
    },
    {
      "cell_type": "code",
      "execution_count": null,
      "metadata": {
        "id": "bApHWZeFgqfO"
      },
      "outputs": [],
      "source": [
        "import random\n",
        "\n",
        "salary = [random.randint(100000, 150000) for num in range(10)]"
      ]
    },
    {
      "cell_type": "code",
      "execution_count": null,
      "metadata": {
        "id": "qyVwR5v8gqfQ",
        "outputId": "8cccde29-1185-45c7-8043-a59cab311021"
      },
      "outputs": [
        {
          "data": {
            "text/plain": [
              "array([111298, 110003, 103540, 116494, 120441, 149248, 107357, 141818,\n",
              "       102895, 139437])"
            ]
          },
          "execution_count": 8,
          "metadata": {},
          "output_type": "execute_result"
        }
      ],
      "source": [
        "salary_array = np.array(salary)\n",
        "salary_array"
      ]
    },
    {
      "cell_type": "code",
      "execution_count": null,
      "metadata": {
        "id": "ZnNtKFi3gqfQ",
        "outputId": "acfecbb2-9f3c-4f8c-d82c-359453176a23"
      },
      "outputs": [
        {
          "data": {
            "text/plain": [
              "1202531"
            ]
          },
          "execution_count": 9,
          "metadata": {},
          "output_type": "execute_result"
        }
      ],
      "source": [
        "total_sum_salaries = np.sum(salary_array)\n",
        "total_sum_salaries"
      ]
    },
    {
      "cell_type": "code",
      "execution_count": null,
      "metadata": {
        "id": "ijAT6slXgqfk",
        "outputId": "45d3851f-f675-4bac-cbcb-af52c7176a80"
      },
      "outputs": [
        {
          "data": {
            "text/plain": [
              "17062.42266535181"
            ]
          },
          "execution_count": 16,
          "metadata": {},
          "output_type": "execute_result"
        }
      ],
      "source": [
        "# Standard deviation of 'salary_year_avg' column\n",
        "salary_std_dev = np.std(salary_array, ddof=1)  # ddof=1 for sample standard deviation\n",
        "salary_std_dev"
      ]
    },
    {
      "cell_type": "markdown",
      "metadata": {
        "id": "aMXw65R6gqfn"
      },
      "source": [
        "#### Insert Missing Values\n",
        "\n",
        "If you want to insert missing values into your array intentionally, perhaps to indicate that data is expected but not yet available. You use `np.nan`."
      ]
    },
    {
      "cell_type": "code",
      "execution_count": null,
      "metadata": {
        "id": "iJN07Vxfgqfn",
        "outputId": "566904cd-5566-449e-efe5-f2d81258c785"
      },
      "outputs": [
        {
          "data": {
            "text/plain": [
              "array([123124.,     nan, 145000., 128000., 110000., 149999.,     nan,\n",
              "       135000., 115000., 140000.])"
            ]
          },
          "execution_count": 19,
          "metadata": {},
          "output_type": "execute_result"
        }
      ],
      "source": [
        "salary_with_nan = np.array([123124, np.nan, 145000, 128000, 110000, 149999, np.nan, 135000, 115000, 140000], dtype=float)\n",
        "salary_with_nan"
      ]
    },
    {
      "cell_type": "code",
      "execution_count": null,
      "metadata": {
        "id": "GoW8x0xUgqfn",
        "outputId": "3180a32f-8862-40c9-f023-1b708fbc5496"
      },
      "outputs": [
        {
          "data": {
            "text/plain": [
              "array([    nan,     nan, 145000.,     nan,     nan, 149999.,     nan,\n",
              "       135000.,     nan, 140000.])"
            ]
          },
          "execution_count": 20,
          "metadata": {},
          "output_type": "execute_result"
        }
      ],
      "source": [
        "salary_with_nan[salary_with_nan < 130000] = np.nan\n",
        "salary_with_nan"
      ]
    },
    {
      "cell_type": "markdown",
      "metadata": {
        "id": "qpp5PuuCgqfp"
      },
      "source": [
        "## Where\n",
        "\n",
        "### Notes\n",
        "\n",
        "* `np.where` check elements of an array against a condition and to assign a value for True and another for false.\n",
        "* Syntax: `np.where(condition)`.\n",
        "* It's commonly used to conditionally replace array elements.\n",
        "\n",
        "### Example\n",
        "\n",
        "We're going to replace all values in `salary_array` that are less than 120,000 with 120,000 (to apply a minimum salary threshold). We'll use this syntax for it: `np.where(condition, x, y)`. With a `condition` and if it's true we do `x` and if not then do `y`."
      ]
    },
    {
      "cell_type": "code",
      "execution_count": null,
      "metadata": {
        "id": "S_K3kS6zgqfp",
        "outputId": "30f035d7-b32d-4cc4-94ae-9e4dfd2522a2"
      },
      "outputs": [
        {
          "data": {
            "text/plain": [
              "array([120000, 120000, 120000, 120000, 120441, 149248, 120000, 141818,\n",
              "       120000, 139437])"
            ]
          },
          "execution_count": 21,
          "metadata": {},
          "output_type": "execute_result"
        }
      ],
      "source": [
        "# Replace values using np.where\n",
        "salary_array = np.where(salary_array < 120000, 120000, salary_array)\n",
        "salary_array"
      ]
    },
    {
      "cell_type": "markdown",
      "metadata": {
        "id": "Agtzmjjogqfp"
      },
      "source": [
        "## Random Sampling\n",
        "\n",
        "### Notes\n",
        "* Generate a random numbers or samples.\n",
        "* `np.random.normal` - draws random samples from a normal (Gaussian) distribution.\n",
        "    * Specify the Arguments:\n",
        "        * `loc`: This is the mean (`μ`) of the normal distribution.\n",
        "        * `scale`: This is the standard deviation (`σ`) of the normal distribution, representing the dispersion from the mean.\n",
        "        * `size`: This defines the number of random samples to draw, which is set to match the number of job postings.\n",
        "    * Syntax: `np.random.normal(loc=0.0, scale=1.0, size=None)`\n",
        "* A few other random sampling functions:\n",
        "    * `np.random.rand`\n",
        "    * `np.random.randn`\n",
        "    * `np.random.randint`\n",
        "    * `np.random.random`\n",
        "    * `np.random.uniform`\n",
        "    * `np.random.binomial`\n",
        "    * `np.random.poisson`\n",
        "\n",
        "### Example\n",
        "\n",
        "Let's add some random noise to the `salary_array` to simulate salary variations. We can generate random values from a normal distribution with a mean of 0 and a standard deviation of 5000, then add these values to the salaries.\n",
        "\n",
        "**Why?** This can be used to simulate salary data for job postings if actual salary data isn't available, for instance, in modeling or simulation scenarios."
      ]
    },
    {
      "cell_type": "code",
      "execution_count": null,
      "metadata": {
        "id": "KYo9D_l4gqfq",
        "outputId": "ae9a87cd-901b-4e65-b89f-5e3ddfc8cd92"
      },
      "outputs": [
        {
          "data": {
            "text/plain": [
              "array([124219.08195846, 131116.06759323, 119455.49265214, 122182.62053755,\n",
              "       118818.2917239 , 151255.86681034, 130457.25819974, 143396.35776544,\n",
              "       120961.92775885, 130976.31025803])"
            ]
          },
          "execution_count": 22,
          "metadata": {},
          "output_type": "execute_result"
        }
      ],
      "source": [
        "# Generate numbers based on normal distribution\n",
        "noise = np.random.normal(0, 5000, salary_array.size)\n",
        "# Add these numbers to the salary_array\n",
        "salary_array_with_noise = salary_array + noise\n",
        "salary_array_with_noise"
      ]
    }
  ]
}