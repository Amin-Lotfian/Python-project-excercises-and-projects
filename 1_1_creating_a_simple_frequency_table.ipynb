{
  "nbformat": 4,
  "nbformat_minor": 0,
  "metadata": {
    "colab": {
      "provenance": [],
      "authorship_tag": "ABX9TyMG0j7Mwb0f3jYlmLkVuLqy",
      "include_colab_link": true
    },
    "kernelspec": {
      "name": "python3",
      "display_name": "Python 3"
    },
    "language_info": {
      "name": "python"
    }
  },
  "cells": [
    {
      "cell_type": "markdown",
      "metadata": {
        "id": "view-in-github",
        "colab_type": "text"
      },
      "source": [
        "<a href=\"https://colab.research.google.com/github/Amin-Lotfian/Python-project-excercises-and-projects/blob/main/1_1_creating_a_simple_frequency_table.ipynb\" target=\"_parent\"><img src=\"https://colab.research.google.com/assets/colab-badge.svg\" alt=\"Open In Colab\"/></a>"
      ]
    },
    {
      "cell_type": "code",
      "execution_count": null,
      "metadata": {
        "colab": {
          "base_uri": "https://localhost:8080/"
        },
        "id": "bFDTUZypSYlA",
        "outputId": "34b64f83-2ad3-4a25-e00f-54b3794ac5fc"
      },
      "outputs": [
        {
          "output_type": "stream",
          "name": "stdout",
          "text": [
            "===== Frequency Table =====\n",
            "    Values  Absolute Frequency  Relative Frequemcy  \\\n",
            "0        4                   1                0.01   \n",
            "1        8                   1                0.01   \n",
            "2       12                   1                0.01   \n",
            "3       32                   1                0.01   \n",
            "4       38                   1                0.01   \n",
            "..     ...                 ...                 ...   \n",
            "89     940                   1                0.01   \n",
            "90     952                   1                0.01   \n",
            "91     971                   1                0.01   \n",
            "92     993                   1                0.01   \n",
            "93     998                   1                0.01   \n",
            "\n",
            "    Cumulative Relative Frequency  \n",
            "0                            0.01  \n",
            "1                            0.02  \n",
            "2                            0.03  \n",
            "3                            0.04  \n",
            "4                            0.05  \n",
            "..                            ...  \n",
            "89                           0.96  \n",
            "90                           0.97  \n",
            "91                           0.98  \n",
            "92                           0.99  \n",
            "93                           1.00  \n",
            "\n",
            "[94 rows x 4 columns]\n"
          ]
        }
      ],
      "source": [
        "import random\n",
        "import numpy as np\n",
        "import pandas as pd\n",
        "\n",
        "class DescriptiveStatistics:\n",
        "    def __init__(self, data):\n",
        "        self.data = data\n",
        "\n",
        "    def frequency_table(self):\n",
        "        possible_values = sorted(set(self.data))\n",
        "        counters = {x: 0 for x in possible_values}\n",
        "        for x in counters:\n",
        "            counters[x] = self.data.count(x)\n",
        "        cumulative_relative_frequency = 0.0\n",
        "        table_lines = []\n",
        "        for k, v in counters.items():\n",
        "            cumulative_relative_frequency += v/len(self.data)\n",
        "            table_lines.append([k, v, v/len(self.data) ,cumulative_relative_frequency])\n",
        "        return pd.DataFrame(\n",
        "            table_lines,\n",
        "            columns=[\n",
        "                \"Values\",\n",
        "                \"Absolute Frequency\",\n",
        "                \"Relative Frequemcy\",\n",
        "                \"Cumulative Relative Frequency\"\n",
        "            ])\n",
        "\n",
        "def main():\n",
        "    print(f\"===== Frequency Table =====\")\n",
        "    data = [random.randint(1,999) for _ in range(100)]\n",
        "    descriptive_statistics = DescriptiveStatistics(data)\n",
        "    print(descriptive_statistics.frequency_table())\n",
        "\n",
        "if __name__ == \"__main__\":\n",
        "    main()"
      ]
    },
    {
      "cell_type": "code",
      "source": [
        "pd.set_option('display.max_rows', 3000) # Replace 100 with the desired number of rows"
      ],
      "metadata": {
        "id": "UQ5SxfqAS1PU"
      },
      "execution_count": null,
      "outputs": []
    }
  ]
}